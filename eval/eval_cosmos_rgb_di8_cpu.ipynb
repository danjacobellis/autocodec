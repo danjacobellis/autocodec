{
 "cells": [
  {
   "cell_type": "code",
   "execution_count": 1,
   "id": "4fc4d032-ac60-4670-9f79-f48f9a6ee4b8",
   "metadata": {},
   "outputs": [],
   "source": [
    "import io\n",
    "import time\n",
    "import torch\n",
    "import datasets\n",
    "import PIL.Image\n",
    "import numpy as np\n",
    "import torch.nn as nn\n",
    "from types import SimpleNamespace\n",
    "from piq import LPIPS, DISTS, SSIMLoss\n",
    "from huggingface_hub import snapshot_download\n",
    "from cosmos_tokenizer.image_lib import ImageTokenizer\n",
    "from torchvision.transforms.v2 import Pad, CenterCrop\n",
    "from torchvision.transforms.v2.functional import to_pil_image, pil_to_tensor"
   ]
  },
  {
   "cell_type": "code",
   "execution_count": 2,
   "id": "32bae16e-d171-4dbb-ba37-5672dc433186",
   "metadata": {},
   "outputs": [
    {
     "data": {
      "application/vnd.jupyter.widget-view+json": {
       "model_id": "63c196a9f5714b299cac1f53c5f1f02b",
       "version_major": 2,
       "version_minor": 0
      },
      "text/plain": [
       "Resolving data files:   0%|          | 0/1024 [00:00<?, ?it/s]"
      ]
     },
     "metadata": {},
     "output_type": "display_data"
    },
    {
     "data": {
      "application/vnd.jupyter.widget-view+json": {
       "model_id": "86393d66341b4c3cbae33e3205f38d88",
       "version_major": 2,
       "version_minor": 0
      },
      "text/plain": [
       "Resolving data files:   0%|          | 0/64 [00:00<?, ?it/s]"
      ]
     },
     "metadata": {},
     "output_type": "display_data"
    },
    {
     "data": {
      "application/vnd.jupyter.widget-view+json": {
       "model_id": "dacf952220444278b9911d8c8d7cfa92",
       "version_major": 2,
       "version_minor": 0
      },
      "text/plain": [
       "Fetching 7 files:   0%|          | 0/7 [00:00<?, ?it/s]"
      ]
     },
     "metadata": {},
     "output_type": "display_data"
    }
   ],
   "source": [
    "device = \"cpu\"\n",
    "inet = datasets.load_dataset(\"timm/imagenet-1k-wds\",split='validation')\n",
    "model_path = snapshot_download(repo_id='nvidia/Cosmos-Tokenizer-DI8x8')\n",
    "encoder = torch.jit.load(f'{model_path}/encoder.jit',map_location=device)\n",
    "decoder = torch.jit.load(f'{model_path}/decoder.jit',map_location=device)"
   ]
  },
  {
   "cell_type": "code",
   "execution_count": 3,
   "id": "f643d1d8-a23b-49bd-8a2d-cc74719cf545",
   "metadata": {},
   "outputs": [],
   "source": [
    "def evaluate_perf(sample, resolution_height=128):\n",
    "    img = sample['jpg'].convert(\"RGB\")\n",
    "    aspect = img.width/img.height\n",
    "    img = img.resize((int(16*(resolution_height*aspect//16)),resolution_height),resample=PIL.Image.Resampling.LANCZOS)\n",
    "    x_orig = pil_to_tensor(img).to(device).unsqueeze(0).to(torch.float) / 127.5 - 1.0\n",
    "    orig_dim = x_orig.numel() \n",
    "\n",
    "    t0 = time.time()\n",
    "    with torch.no_grad():\n",
    "        z = encoder.encoder(x_orig)\n",
    "\n",
    "    torch.save(z,'temp.pth')\n",
    "    encode_time = time.time() - t0\n",
    "    size_bytes = 2*z.numel()\n",
    "    t0 = time.time()\n",
    "    z = torch.load(\"temp.pth\")\n",
    "    with torch.no_grad():\n",
    "        x_hat = decoder.decoder(z).to(torch.float).clamp(-1,1)\n",
    "    decode_time = time.time() - t0\n",
    "\n",
    "    x_orig_01 = x_orig / 2 + 0.5\n",
    "    x_hat_01 = x_hat / 2 + 0.5\n",
    "\n",
    "    pixels = img.width * img.height\n",
    "    bpp = 8 * size_bytes / pixels\n",
    "    mse = torch.nn.functional.mse_loss(x_orig_01[0], x_hat_01[0])\n",
    "    PSNR = -10 * mse.log10().item()\n",
    "\n",
    "    return {\n",
    "        'pixels': pixels,\n",
    "        'encode_time': encode_time,\n",
    "        'decode_time': decode_time,\n",
    "        'bpp': bpp,\n",
    "        'PSNR': PSNR,\n",
    "    }"
   ]
  },
  {
   "cell_type": "code",
   "execution_count": 6,
   "id": "504525eb-b41f-4d27-b9f8-150f85fb37b0",
   "metadata": {},
   "outputs": [],
   "source": [
    "metrics = [\n",
    "    'pixels',\n",
    "    'encode_time',\n",
    "    'decode_time',\n",
    "    'bpp',\n",
    "    'PSNR',\n",
    "]"
   ]
  },
  {
   "cell_type": "code",
   "execution_count": null,
   "id": "41f8325c-2b49-47a5-aeaa-635baf18d489",
   "metadata": {},
   "outputs": [],
   "source": [
    "results_dataset = inet.select(range(0,500,53)).map(lambda s: evaluate_perf(s))\n",
    "\n",
    "print(\"mean\\n---\")\n",
    "for metric in metrics:\n",
    "    μ = np.mean(results_dataset[metric])\n",
    "    print(f\"{metric}: {μ}\")\n",
    "print(f\"{np.mean(np.array(results_dataset['pixels'])/1e6/np.array(results_dataset['encode_time']))} MP/sec\")"
   ]
  },
  {
   "cell_type": "code",
   "execution_count": 7,
   "id": "989309cc-be32-49d5-a3d0-40cf5708bbeb",
   "metadata": {},
   "outputs": [
    {
     "name": "stdout",
     "output_type": "stream",
     "text": [
      "mean\n",
      "---\n",
      "pixels: 18432.0\n",
      "encode_time: 4.611590790748596\n",
      "decode_time: 29.12102770805359\n",
      "bpp: 64.0\n",
      "PSNR: 9.125008463859558\n",
      "0.004116413068231155 MP/sec\n"
     ]
    }
   ],
   "source": [
    "print(\"mean\\n---\")\n",
    "for metric in metrics:\n",
    "    μ = np.mean(results_dataset[metric])\n",
    "    print(f\"{metric}: {μ}\")\n",
    "print(f\"{np.mean(np.array(results_dataset['pixels'])/1e6/np.array(results_dataset['encode_time']))} MP/sec\")"
   ]
  }
 ],
 "metadata": {
  "kernelspec": {
   "display_name": "Python 3.11",
   "language": "python",
   "name": "python3.11"
  },
  "language_info": {
   "codemirror_mode": {
    "name": "ipython",
    "version": 3
   },
   "file_extension": ".py",
   "mimetype": "text/x-python",
   "name": "python",
   "nbconvert_exporter": "python",
   "pygments_lexer": "ipython3",
   "version": "3.11.0rc1"
  }
 },
 "nbformat": 4,
 "nbformat_minor": 5
}
