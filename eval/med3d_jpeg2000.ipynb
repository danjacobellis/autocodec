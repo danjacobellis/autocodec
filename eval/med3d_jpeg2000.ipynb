{
 "cells": [
  {
   "cell_type": "code",
   "execution_count": 1,
   "id": "31802a5a-cddf-4ebd-9d87-2aca01836585",
   "metadata": {},
   "outputs": [],
   "source": [
    "import io\n",
    "import torch\n",
    "import torch.nn as nn\n",
    "import PIL.Image\n",
    "import einops\n",
    "import matplotlib.pyplot as plt\n",
    "import numpy as np\n",
    "import datasets\n",
    "import math\n",
    "import random\n",
    "import time\n",
    "from timm.optim import Mars\n",
    "from types import SimpleNamespace\n",
    "from IPython.display import HTML\n",
    "from types import SimpleNamespace\n",
    "from fastprogress import progress_bar, master_bar\n",
    "from torchvision.transforms.v2 import CenterCrop, RandomCrop\n",
    "from torchvision.transforms.v2.functional import pil_to_tensor, to_pil_image"
   ]
  },
  {
   "cell_type": "code",
   "execution_count": 2,
   "id": "550eece5-fccd-4fba-ba81-f81f73a3fd44",
   "metadata": {},
   "outputs": [],
   "source": [
    "device = \"cuda\"\n",
    "medmnist_types = ['organ', 'adrenal', 'fracture', 'nodule', 'synapse', 'vessel']\n",
    "dataset_train = datasets.concatenate_datasets([datasets.load_dataset(f\"danjacobellis/{type}mnist3d_64\", split='train') for type in medmnist_types])\n",
    "dataset_valid = datasets.concatenate_datasets([datasets.load_dataset(f\"danjacobellis/{type}mnist3d_64\", split='validation') for type in medmnist_types])\n",
    "dataset = datasets.DatasetDict({\n",
    "    'train': dataset_train,\n",
    "    'validation': dataset_valid\n",
    "})"
   ]
  },
  {
   "cell_type": "code",
   "execution_count": 3,
   "id": "4cde27fb-c2a8-44a6-b4d0-c59352f095ec",
   "metadata": {},
   "outputs": [],
   "source": [
    "def pil_to_grid3d(img):\n",
    "    x = torch.tensor(np.array(img))\n",
    "    x = einops.rearrange(x, '(a y) (b z) c -> (a b c) y z', a=4, b=4, c=4)\n",
    "    return x"
   ]
  },
  {
   "cell_type": "code",
   "execution_count": 78,
   "id": "69f179de-ce7a-4dd0-8471-075a4dfee880",
   "metadata": {},
   "outputs": [],
   "source": [
    "def evaluate_quality(sample):\n",
    "\n",
    "    x = pil_to_grid3d(sample['image'])\n",
    "    orig_dim = x.numel()\n",
    "    \n",
    "    t0 = time.time()\n",
    "    buff_list = []\n",
    "    for s in x:\n",
    "        buff_list.append(io.BytesIO())\n",
    "        img = to_pil_image(s)\n",
    "        img.save(buff_list[-1], format='JPEG2000', quality_layers=[210])\n",
    "    encode_time = time.time() - t0\n",
    "    \n",
    "    buff = io.BytesIO()\n",
    "    img = to_pil_image(torch.zeros((64,64)))\n",
    "    img.save(buff, format='JPEG2000', quality_layers=[1000])\n",
    "    header_size = len(buff.getbuffer())\n",
    "    cr = x.numel() / (header_size + sum(len(b.getbuffer())-header_size for b in buff_list))\n",
    "    \n",
    "    t0 = time.time()\n",
    "    xhat = []\n",
    "    for b in buff_list:\n",
    "        xhati = PIL.Image.open(b)\n",
    "        xhat.append(pil_to_tensor(xhati))\n",
    "    xhat = torch.cat(xhat)\n",
    "    decode_time = time.time() - t0\n",
    "    \n",
    "    x = x.to(torch.float)/255\n",
    "    xhat = xhat.to(torch.float)/255\n",
    "    \n",
    "    mse = torch.nn.functional.mse_loss(x, xhat)\n",
    "    psnr = -10 * mse.log10().item()\n",
    "\n",
    "    return {\n",
    "        'voxels': x.numel(),\n",
    "        'cr': cr,\n",
    "        'encode_time': encode_time,\n",
    "        'decode_time': decode_time,\n",
    "        'psnr': psnr\n",
    "    }"
   ]
  },
  {
   "cell_type": "code",
   "execution_count": 79,
   "id": "f8833632-bc32-49cf-862b-ef456dbf57e0",
   "metadata": {},
   "outputs": [
    {
     "data": {
      "application/vnd.jupyter.widget-view+json": {
       "model_id": "bdc54055f58048fdaca57fdfd9d9f220",
       "version_major": 2,
       "version_minor": 0
      },
      "text/plain": [
       "Map:   0%|          | 0/100 [00:00<?, ? examples/s]"
      ]
     },
     "metadata": {},
     "output_type": "display_data"
    }
   ],
   "source": [
    "gpu_results = dataset['validation'].select(range(100)).map(evaluate_quality)"
   ]
  },
  {
   "cell_type": "code",
   "execution_count": 80,
   "id": "332b25b1-342e-4ec1-886c-a66db365bc28",
   "metadata": {},
   "outputs": [],
   "source": [
    "metrics = [\n",
    "    'voxels',\n",
    "    'encode_time',\n",
    "    'decode_time',\n",
    "    'cr',\n",
    "    'psnr',\n",
    "]"
   ]
  },
  {
   "cell_type": "code",
   "execution_count": 81,
   "id": "a70e5cc0-7af6-468c-9ed2-957c7eb56e0a",
   "metadata": {},
   "outputs": [
    {
     "name": "stdout",
     "output_type": "stream",
     "text": [
      "mean\n",
      "---\n",
      "voxels: 262144.0\n",
      "encode_time: 0.038227436542510984\n",
      "decode_time: 0.0052431726455688474\n",
      "cr: 188.2600935526794\n",
      "psnr: 16.01819063425064\n",
      "6.971167760978013 MVox/sec\n",
      "50.0155813867643 MVox/sec\n"
     ]
    }
   ],
   "source": [
    "print(\"mean\\n---\")\n",
    "for metric in metrics:\n",
    "    μ = np.mean(gpu_results[metric])\n",
    "    print(f\"{metric}: {μ}\")\n",
    "print(f\"{np.mean(np.array(gpu_results['voxels'])/1e6/np.array(gpu_results['encode_time']))} MVox/sec\")\n",
    "print(f\"{np.mean(np.array(gpu_results['voxels'])/1e6/np.array(gpu_results['decode_time']))} MVox/sec\")"
   ]
  }
 ],
 "metadata": {
  "kernelspec": {
   "display_name": "Python 3.11",
   "language": "python",
   "name": "python3.11"
  },
  "language_info": {
   "codemirror_mode": {
    "name": "ipython",
    "version": 3
   },
   "file_extension": ".py",
   "mimetype": "text/x-python",
   "name": "python",
   "nbconvert_exporter": "python",
   "pygments_lexer": "ipython3",
   "version": "3.11.0rc1"
  }
 },
 "nbformat": 4,
 "nbformat_minor": 5
}
