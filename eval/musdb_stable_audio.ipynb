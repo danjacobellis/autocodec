{
 "cells": [
  {
   "cell_type": "code",
   "execution_count": 1,
   "id": "d3b6a3b0-bc00-4ec5-b0b2-3dc34104bfe6",
   "metadata": {},
   "outputs": [
    {
     "name": "stdout",
     "output_type": "stream",
     "text": [
      "NVIDIA GeForce RTX 4090\n"
     ]
    }
   ],
   "source": [
    "!nvidia-smi --query-gpu=name --format=csv,noheader | head -n 1"
   ]
  },
  {
   "cell_type": "code",
   "execution_count": 3,
   "id": "6d7db02c-516f-4ddd-ba4a-31b7dcc18526",
   "metadata": {},
   "outputs": [],
   "source": [
    "import io\n",
    "import time\n",
    "import torch\n",
    "import numpy as np\n",
    "import PIL\n",
    "import torchaudio\n",
    "import matplotlib.pyplot as plt\n",
    "from IPython.display import Audio\n",
    "from torchvision.transforms import ToPILImage, PILToTensor\n",
    "from datasets import load_dataset, Image\n",
    "from walloc import walloc\n",
    "from diffusers.models.autoencoders import AutoencoderOobleck"
   ]
  },
  {
   "cell_type": "code",
   "execution_count": 4,
   "id": "f1d8daf3-5777-4f61-b570-cf77fb459585",
   "metadata": {},
   "outputs": [
    {
     "name": "stderr",
     "output_type": "stream",
     "text": [
      "Cannot initialize model with low cpu memory usage because `accelerate` was not found in the environment. Defaulting to `low_cpu_mem_usage=False`. It is strongly recommended to install `accelerate` for faster and less memory-intense model loading. You can do so with: \n",
      "```\n",
      "pip install accelerate\n",
      "```\n",
      ".\n"
     ]
    },
    {
     "data": {
      "application/vnd.jupyter.widget-view+json": {
       "model_id": "157c8e4166ff4cf1bbe98008ea6d8d80",
       "version_major": 2,
       "version_minor": 0
      },
      "text/plain": [
       "config.json:   0%|          | 0.00/350 [00:00<?, ?B/s]"
      ]
     },
     "metadata": {},
     "output_type": "display_data"
    },
    {
     "data": {
      "application/vnd.jupyter.widget-view+json": {
       "model_id": "3bea0c67ded3403aa379a4fb1f35ffb7",
       "version_major": 2,
       "version_minor": 0
      },
      "text/plain": [
       "diffusion_pytorch_model.safetensors:   0%|          | 0.00/624M [00:00<?, ?B/s]"
      ]
     },
     "metadata": {},
     "output_type": "display_data"
    },
    {
     "name": "stderr",
     "output_type": "stream",
     "text": [
      "/home/dgj335/.local/lib/python3.11/site-packages/torch/nn/utils/weight_norm.py:143: FutureWarning: `torch.nn.utils.weight_norm` is deprecated in favor of `torch.nn.utils.parametrizations.weight_norm`.\n",
      "  WeightNorm.apply(module, name, dim)\n"
     ]
    }
   ],
   "source": [
    "codec = AutoencoderOobleck.from_pretrained(\n",
    "    \"stabilityai/stable-audio-open-1.0\",\n",
    "    subfolder='vae',\n",
    "    torch_dtype=torch.float16\n",
    ")\n",
    "codec.eval();"
   ]
  },
  {
   "cell_type": "code",
   "execution_count": 7,
   "id": "eea68b9d-1e5a-432f-af4a-8ad4447fcf3d",
   "metadata": {},
   "outputs": [
    {
     "data": {
      "application/vnd.jupyter.widget-view+json": {
       "model_id": "ae603bbe990641c99f08320f75a4c48f",
       "version_major": 2,
       "version_minor": 0
      },
      "text/plain": [
       "README.md:   0%|          | 0.00/1.15k [00:00<?, ?B/s]"
      ]
     },
     "metadata": {},
     "output_type": "display_data"
    },
    {
     "data": {
      "application/vnd.jupyter.widget-view+json": {
       "model_id": "936a6dc12f2748e7a7b688afdd040cbf",
       "version_major": 2,
       "version_minor": 0
      },
      "text/plain": [
       "Resolving data files:   0%|          | 0/41 [00:00<?, ?it/s]"
      ]
     },
     "metadata": {},
     "output_type": "display_data"
    },
    {
     "data": {
      "application/vnd.jupyter.widget-view+json": {
       "model_id": "bd391a14feee448dbd946af8645e6db6",
       "version_major": 2,
       "version_minor": 0
      },
      "text/plain": [
       "Resolving data files:   0%|          | 0/22 [00:00<?, ?it/s]"
      ]
     },
     "metadata": {},
     "output_type": "display_data"
    },
    {
     "data": {
      "application/vnd.jupyter.widget-view+json": {
       "model_id": "00b362bea8494bcab3a337bd2369024b",
       "version_major": 2,
       "version_minor": 0
      },
      "text/plain": [
       "Resolving data files:   0%|          | 0/41 [00:00<?, ?it/s]"
      ]
     },
     "metadata": {},
     "output_type": "display_data"
    },
    {
     "data": {
      "application/vnd.jupyter.widget-view+json": {
       "model_id": "8ac24567118341c0bf34d43f9fc53680",
       "version_major": 2,
       "version_minor": 0
      },
      "text/plain": [
       "Resolving data files:   0%|          | 0/22 [00:00<?, ?it/s]"
      ]
     },
     "metadata": {},
     "output_type": "display_data"
    },
    {
     "data": {
      "application/vnd.jupyter.widget-view+json": {
       "model_id": "44043dd9e81f4953a8c58ffa75b55f8a",
       "version_major": 2,
       "version_minor": 0
      },
      "text/plain": [
       "Downloading data:   0%|          | 0/41 [00:00<?, ?files/s]"
      ]
     },
     "metadata": {},
     "output_type": "display_data"
    },
    {
     "data": {
      "application/vnd.jupyter.widget-view+json": {
       "model_id": "fbb7d282c9234317930fcdb00d9d2ace",
       "version_major": 2,
       "version_minor": 0
      },
      "text/plain": [
       "train-00000-of-00041.parquet:   0%|          | 0.00/460M [00:00<?, ?B/s]"
      ]
     },
     "metadata": {},
     "output_type": "display_data"
    },
    {
     "data": {
      "application/vnd.jupyter.widget-view+json": {
       "model_id": "0365131d1e314a56a4bd2fced2a5377d",
       "version_major": 2,
       "version_minor": 0
      },
      "text/plain": [
       "train-00001-of-00041.parquet:   0%|          | 0.00/429M [00:00<?, ?B/s]"
      ]
     },
     "metadata": {},
     "output_type": "display_data"
    },
    {
     "data": {
      "application/vnd.jupyter.widget-view+json": {
       "model_id": "ff4b927099194584aa1d35284bf15bfc",
       "version_major": 2,
       "version_minor": 0
      },
      "text/plain": [
       "train-00002-of-00041.parquet:   0%|          | 0.00/450M [00:00<?, ?B/s]"
      ]
     },
     "metadata": {},
     "output_type": "display_data"
    },
    {
     "data": {
      "application/vnd.jupyter.widget-view+json": {
       "model_id": "70fbb7940afd4f9886747acf9b6606f1",
       "version_major": 2,
       "version_minor": 0
      },
      "text/plain": [
       "train-00003-of-00041.parquet:   0%|          | 0.00/426M [00:00<?, ?B/s]"
      ]
     },
     "metadata": {},
     "output_type": "display_data"
    },
    {
     "data": {
      "application/vnd.jupyter.widget-view+json": {
       "model_id": "0bcad69a247646819e28801286b012a3",
       "version_major": 2,
       "version_minor": 0
      },
      "text/plain": [
       "train-00004-of-00041.parquet:   0%|          | 0.00/400M [00:00<?, ?B/s]"
      ]
     },
     "metadata": {},
     "output_type": "display_data"
    },
    {
     "data": {
      "application/vnd.jupyter.widget-view+json": {
       "model_id": "ec1524b3888b490db2878616b029da02",
       "version_major": 2,
       "version_minor": 0
      },
      "text/plain": [
       "train-00005-of-00041.parquet:   0%|          | 0.00/418M [00:00<?, ?B/s]"
      ]
     },
     "metadata": {},
     "output_type": "display_data"
    },
    {
     "data": {
      "application/vnd.jupyter.widget-view+json": {
       "model_id": "5982a84f76714a80bf38ea27d5a33a3c",
       "version_major": 2,
       "version_minor": 0
      },
      "text/plain": [
       "train-00006-of-00041.parquet:   0%|          | 0.00/451M [00:00<?, ?B/s]"
      ]
     },
     "metadata": {},
     "output_type": "display_data"
    },
    {
     "data": {
      "application/vnd.jupyter.widget-view+json": {
       "model_id": "52edb032995a4ef1a8c91513ebec0530",
       "version_major": 2,
       "version_minor": 0
      },
      "text/plain": [
       "train-00007-of-00041.parquet:   0%|          | 0.00/458M [00:00<?, ?B/s]"
      ]
     },
     "metadata": {},
     "output_type": "display_data"
    },
    {
     "data": {
      "application/vnd.jupyter.widget-view+json": {
       "model_id": "5ddb9808450b49a5ac07f8e9f07ccffa",
       "version_major": 2,
       "version_minor": 0
      },
      "text/plain": [
       "train-00008-of-00041.parquet:   0%|          | 0.00/442M [00:00<?, ?B/s]"
      ]
     },
     "metadata": {},
     "output_type": "display_data"
    },
    {
     "data": {
      "application/vnd.jupyter.widget-view+json": {
       "model_id": "77da1019aa2a411ca0ee8821283a24db",
       "version_major": 2,
       "version_minor": 0
      },
      "text/plain": [
       "train-00009-of-00041.parquet:   0%|          | 0.00/374M [00:00<?, ?B/s]"
      ]
     },
     "metadata": {},
     "output_type": "display_data"
    },
    {
     "data": {
      "application/vnd.jupyter.widget-view+json": {
       "model_id": "92c4124fda194480960fd9017f27c6cc",
       "version_major": 2,
       "version_minor": 0
      },
      "text/plain": [
       "train-00010-of-00041.parquet:   0%|          | 0.00/459M [00:00<?, ?B/s]"
      ]
     },
     "metadata": {},
     "output_type": "display_data"
    },
    {
     "data": {
      "application/vnd.jupyter.widget-view+json": {
       "model_id": "96fc39ed32ce4306974c81b15dbf5fd9",
       "version_major": 2,
       "version_minor": 0
      },
      "text/plain": [
       "train-00011-of-00041.parquet:   0%|          | 0.00/408M [00:00<?, ?B/s]"
      ]
     },
     "metadata": {},
     "output_type": "display_data"
    },
    {
     "data": {
      "application/vnd.jupyter.widget-view+json": {
       "model_id": "64e81c38e43b402882577aaade6ce12c",
       "version_major": 2,
       "version_minor": 0
      },
      "text/plain": [
       "train-00012-of-00041.parquet:   0%|          | 0.00/434M [00:00<?, ?B/s]"
      ]
     },
     "metadata": {},
     "output_type": "display_data"
    },
    {
     "data": {
      "application/vnd.jupyter.widget-view+json": {
       "model_id": "015242c0bae3469698c1617fa5efe7df",
       "version_major": 2,
       "version_minor": 0
      },
      "text/plain": [
       "train-00013-of-00041.parquet:   0%|          | 0.00/421M [00:00<?, ?B/s]"
      ]
     },
     "metadata": {},
     "output_type": "display_data"
    },
    {
     "data": {
      "application/vnd.jupyter.widget-view+json": {
       "model_id": "f783ded0754b41729dd3a0c18f1ccf1b",
       "version_major": 2,
       "version_minor": 0
      },
      "text/plain": [
       "train-00014-of-00041.parquet:   0%|          | 0.00/416M [00:00<?, ?B/s]"
      ]
     },
     "metadata": {},
     "output_type": "display_data"
    },
    {
     "data": {
      "application/vnd.jupyter.widget-view+json": {
       "model_id": "5c756fd8330f4c989f4aa2d49b153a1b",
       "version_major": 2,
       "version_minor": 0
      },
      "text/plain": [
       "train-00015-of-00041.parquet:   0%|          | 0.00/407M [00:00<?, ?B/s]"
      ]
     },
     "metadata": {},
     "output_type": "display_data"
    },
    {
     "data": {
      "application/vnd.jupyter.widget-view+json": {
       "model_id": "94d249b942364e4995a8ee57aed3f341",
       "version_major": 2,
       "version_minor": 0
      },
      "text/plain": [
       "train-00016-of-00041.parquet:   0%|          | 0.00/464M [00:00<?, ?B/s]"
      ]
     },
     "metadata": {},
     "output_type": "display_data"
    },
    {
     "data": {
      "application/vnd.jupyter.widget-view+json": {
       "model_id": "22c79e67e9cc44099f9038c1fba942b5",
       "version_major": 2,
       "version_minor": 0
      },
      "text/plain": [
       "train-00017-of-00041.parquet:   0%|          | 0.00/430M [00:00<?, ?B/s]"
      ]
     },
     "metadata": {},
     "output_type": "display_data"
    },
    {
     "data": {
      "application/vnd.jupyter.widget-view+json": {
       "model_id": "58fe0750018f4de0b2bdd45a7747873c",
       "version_major": 2,
       "version_minor": 0
      },
      "text/plain": [
       "train-00018-of-00041.parquet:   0%|          | 0.00/448M [00:00<?, ?B/s]"
      ]
     },
     "metadata": {},
     "output_type": "display_data"
    },
    {
     "data": {
      "application/vnd.jupyter.widget-view+json": {
       "model_id": "706a0c03a553437c895fcff276a67058",
       "version_major": 2,
       "version_minor": 0
      },
      "text/plain": [
       "train-00019-of-00041.parquet:   0%|          | 0.00/461M [00:00<?, ?B/s]"
      ]
     },
     "metadata": {},
     "output_type": "display_data"
    },
    {
     "data": {
      "application/vnd.jupyter.widget-view+json": {
       "model_id": "2dd1eed255324bb483ba5a3ef09ac89a",
       "version_major": 2,
       "version_minor": 0
      },
      "text/plain": [
       "train-00020-of-00041.parquet:   0%|          | 0.00/460M [00:00<?, ?B/s]"
      ]
     },
     "metadata": {},
     "output_type": "display_data"
    },
    {
     "data": {
      "application/vnd.jupyter.widget-view+json": {
       "model_id": "99fb87d927fb412d84c61f12053e2245",
       "version_major": 2,
       "version_minor": 0
      },
      "text/plain": [
       "train-00021-of-00041.parquet:   0%|          | 0.00/459M [00:00<?, ?B/s]"
      ]
     },
     "metadata": {},
     "output_type": "display_data"
    },
    {
     "data": {
      "application/vnd.jupyter.widget-view+json": {
       "model_id": "946462b43c5144948682dd9a34527ef9",
       "version_major": 2,
       "version_minor": 0
      },
      "text/plain": [
       "train-00022-of-00041.parquet:   0%|          | 0.00/437M [00:00<?, ?B/s]"
      ]
     },
     "metadata": {},
     "output_type": "display_data"
    },
    {
     "data": {
      "application/vnd.jupyter.widget-view+json": {
       "model_id": "70cdf12dff0a4276adec637e6a3d79b1",
       "version_major": 2,
       "version_minor": 0
      },
      "text/plain": [
       "train-00023-of-00041.parquet:   0%|          | 0.00/389M [00:00<?, ?B/s]"
      ]
     },
     "metadata": {},
     "output_type": "display_data"
    },
    {
     "data": {
      "application/vnd.jupyter.widget-view+json": {
       "model_id": "f06b9da1a93c48f7b9c8230d5be698af",
       "version_major": 2,
       "version_minor": 0
      },
      "text/plain": [
       "train-00024-of-00041.parquet:   0%|          | 0.00/453M [00:00<?, ?B/s]"
      ]
     },
     "metadata": {},
     "output_type": "display_data"
    },
    {
     "data": {
      "application/vnd.jupyter.widget-view+json": {
       "model_id": "becada96d83b4d41befda32bbdb78311",
       "version_major": 2,
       "version_minor": 0
      },
      "text/plain": [
       "train-00025-of-00041.parquet:   0%|          | 0.00/444M [00:00<?, ?B/s]"
      ]
     },
     "metadata": {},
     "output_type": "display_data"
    },
    {
     "data": {
      "application/vnd.jupyter.widget-view+json": {
       "model_id": "8aa1e6e44c61438c83e536ed94733f61",
       "version_major": 2,
       "version_minor": 0
      },
      "text/plain": [
       "train-00026-of-00041.parquet:   0%|          | 0.00/397M [00:00<?, ?B/s]"
      ]
     },
     "metadata": {},
     "output_type": "display_data"
    },
    {
     "data": {
      "application/vnd.jupyter.widget-view+json": {
       "model_id": "2efd59d3461042aeb64f993f6ba071bb",
       "version_major": 2,
       "version_minor": 0
      },
      "text/plain": [
       "train-00027-of-00041.parquet:   0%|          | 0.00/388M [00:00<?, ?B/s]"
      ]
     },
     "metadata": {},
     "output_type": "display_data"
    },
    {
     "data": {
      "application/vnd.jupyter.widget-view+json": {
       "model_id": "4781bb9344d4402498f2ae9b706f0c9e",
       "version_major": 2,
       "version_minor": 0
      },
      "text/plain": [
       "train-00028-of-00041.parquet:   0%|          | 0.00/395M [00:00<?, ?B/s]"
      ]
     },
     "metadata": {},
     "output_type": "display_data"
    },
    {
     "data": {
      "application/vnd.jupyter.widget-view+json": {
       "model_id": "ce20128d43b141f391efba2e08cec63f",
       "version_major": 2,
       "version_minor": 0
      },
      "text/plain": [
       "train-00029-of-00041.parquet:   0%|          | 0.00/390M [00:00<?, ?B/s]"
      ]
     },
     "metadata": {},
     "output_type": "display_data"
    },
    {
     "data": {
      "application/vnd.jupyter.widget-view+json": {
       "model_id": "652bb7f2941e4acc935e9c2f0fc75ea2",
       "version_major": 2,
       "version_minor": 0
      },
      "text/plain": [
       "train-00030-of-00041.parquet:   0%|          | 0.00/427M [00:00<?, ?B/s]"
      ]
     },
     "metadata": {},
     "output_type": "display_data"
    },
    {
     "data": {
      "application/vnd.jupyter.widget-view+json": {
       "model_id": "b0a77db4b4b04d04ad09e1967ccd1403",
       "version_major": 2,
       "version_minor": 0
      },
      "text/plain": [
       "train-00031-of-00041.parquet:   0%|          | 0.00/409M [00:00<?, ?B/s]"
      ]
     },
     "metadata": {},
     "output_type": "display_data"
    },
    {
     "data": {
      "application/vnd.jupyter.widget-view+json": {
       "model_id": "a12bcaaff9fa4a0b838e70941b625097",
       "version_major": 2,
       "version_minor": 0
      },
      "text/plain": [
       "train-00032-of-00041.parquet:   0%|          | 0.00/392M [00:00<?, ?B/s]"
      ]
     },
     "metadata": {},
     "output_type": "display_data"
    },
    {
     "data": {
      "application/vnd.jupyter.widget-view+json": {
       "model_id": "299488d7e5fd4e2faba47e98ede7b8fc",
       "version_major": 2,
       "version_minor": 0
      },
      "text/plain": [
       "train-00033-of-00041.parquet:   0%|          | 0.00/421M [00:00<?, ?B/s]"
      ]
     },
     "metadata": {},
     "output_type": "display_data"
    },
    {
     "data": {
      "application/vnd.jupyter.widget-view+json": {
       "model_id": "7db06a0987e9460a8986eab678af34dd",
       "version_major": 2,
       "version_minor": 0
      },
      "text/plain": [
       "train-00034-of-00041.parquet:   0%|          | 0.00/379M [00:00<?, ?B/s]"
      ]
     },
     "metadata": {},
     "output_type": "display_data"
    },
    {
     "data": {
      "application/vnd.jupyter.widget-view+json": {
       "model_id": "df2b89200c964ea38a8333648f9a9007",
       "version_major": 2,
       "version_minor": 0
      },
      "text/plain": [
       "train-00035-of-00041.parquet:   0%|          | 0.00/402M [00:00<?, ?B/s]"
      ]
     },
     "metadata": {},
     "output_type": "display_data"
    },
    {
     "data": {
      "application/vnd.jupyter.widget-view+json": {
       "model_id": "f4850301d1dc4fe797d94f8c8c8a4771",
       "version_major": 2,
       "version_minor": 0
      },
      "text/plain": [
       "train-00036-of-00041.parquet:   0%|          | 0.00/385M [00:00<?, ?B/s]"
      ]
     },
     "metadata": {},
     "output_type": "display_data"
    },
    {
     "data": {
      "application/vnd.jupyter.widget-view+json": {
       "model_id": "ec2c6bc370d5418a907e924b6a31ef07",
       "version_major": 2,
       "version_minor": 0
      },
      "text/plain": [
       "train-00037-of-00041.parquet:   0%|          | 0.00/384M [00:00<?, ?B/s]"
      ]
     },
     "metadata": {},
     "output_type": "display_data"
    },
    {
     "data": {
      "application/vnd.jupyter.widget-view+json": {
       "model_id": "0952d267daf74f7abb40ea24b6ec4c5e",
       "version_major": 2,
       "version_minor": 0
      },
      "text/plain": [
       "train-00038-of-00041.parquet:   0%|          | 0.00/423M [00:00<?, ?B/s]"
      ]
     },
     "metadata": {},
     "output_type": "display_data"
    },
    {
     "data": {
      "application/vnd.jupyter.widget-view+json": {
       "model_id": "b3fc13ce926d4f9d916ab29089c7f733",
       "version_major": 2,
       "version_minor": 0
      },
      "text/plain": [
       "train-00039-of-00041.parquet:   0%|          | 0.00/396M [00:00<?, ?B/s]"
      ]
     },
     "metadata": {},
     "output_type": "display_data"
    },
    {
     "data": {
      "application/vnd.jupyter.widget-view+json": {
       "model_id": "9e7731a827c946bf9fe7bb841af2dcd5",
       "version_major": 2,
       "version_minor": 0
      },
      "text/plain": [
       "train-00040-of-00041.parquet:   0%|          | 0.00/395M [00:00<?, ?B/s]"
      ]
     },
     "metadata": {},
     "output_type": "display_data"
    },
    {
     "data": {
      "application/vnd.jupyter.widget-view+json": {
       "model_id": "65cb9602eae14db7916c82aef753d99a",
       "version_major": 2,
       "version_minor": 0
      },
      "text/plain": [
       "Downloading data:   0%|          | 0/22 [00:00<?, ?files/s]"
      ]
     },
     "metadata": {},
     "output_type": "display_data"
    },
    {
     "data": {
      "application/vnd.jupyter.widget-view+json": {
       "model_id": "82f46fc67de04dd9bdbdfddbd8aea065",
       "version_major": 2,
       "version_minor": 0
      },
      "text/plain": [
       "validation-00000-of-00022.parquet:   0%|          | 0.00/429M [00:00<?, ?B/s]"
      ]
     },
     "metadata": {},
     "output_type": "display_data"
    },
    {
     "data": {
      "application/vnd.jupyter.widget-view+json": {
       "model_id": "ab1c758debf341419f83c38a7a2238da",
       "version_major": 2,
       "version_minor": 0
      },
      "text/plain": [
       "validation-00001-of-00022.parquet:   0%|          | 0.00/443M [00:00<?, ?B/s]"
      ]
     },
     "metadata": {},
     "output_type": "display_data"
    },
    {
     "data": {
      "application/vnd.jupyter.widget-view+json": {
       "model_id": "4bddd982d2174127bde4d29d424e564e",
       "version_major": 2,
       "version_minor": 0
      },
      "text/plain": [
       "validation-00002-of-00022.parquet:   0%|          | 0.00/421M [00:00<?, ?B/s]"
      ]
     },
     "metadata": {},
     "output_type": "display_data"
    },
    {
     "data": {
      "application/vnd.jupyter.widget-view+json": {
       "model_id": "1e79d43a30f24d699f7443da5686475a",
       "version_major": 2,
       "version_minor": 0
      },
      "text/plain": [
       "validation-00003-of-00022.parquet:   0%|          | 0.00/440M [00:00<?, ?B/s]"
      ]
     },
     "metadata": {},
     "output_type": "display_data"
    },
    {
     "data": {
      "application/vnd.jupyter.widget-view+json": {
       "model_id": "e86e876bac7041a8a63800ed2d3334fb",
       "version_major": 2,
       "version_minor": 0
      },
      "text/plain": [
       "validation-00004-of-00022.parquet:   0%|          | 0.00/404M [00:00<?, ?B/s]"
      ]
     },
     "metadata": {},
     "output_type": "display_data"
    },
    {
     "data": {
      "application/vnd.jupyter.widget-view+json": {
       "model_id": "44308857e38349fa9e456ccc12046944",
       "version_major": 2,
       "version_minor": 0
      },
      "text/plain": [
       "validation-00005-of-00022.parquet:   0%|          | 0.00/441M [00:00<?, ?B/s]"
      ]
     },
     "metadata": {},
     "output_type": "display_data"
    },
    {
     "data": {
      "application/vnd.jupyter.widget-view+json": {
       "model_id": "08b7f595c29d4c1fbeb621b0d1f37eb6",
       "version_major": 2,
       "version_minor": 0
      },
      "text/plain": [
       "validation-00006-of-00022.parquet:   0%|          | 0.00/393M [00:00<?, ?B/s]"
      ]
     },
     "metadata": {},
     "output_type": "display_data"
    },
    {
     "data": {
      "application/vnd.jupyter.widget-view+json": {
       "model_id": "53cfb5043eb741c69a494591e7613aa5",
       "version_major": 2,
       "version_minor": 0
      },
      "text/plain": [
       "validation-00007-of-00022.parquet:   0%|          | 0.00/412M [00:00<?, ?B/s]"
      ]
     },
     "metadata": {},
     "output_type": "display_data"
    },
    {
     "data": {
      "application/vnd.jupyter.widget-view+json": {
       "model_id": "7f7ae68b06e54db787b620ed1943d594",
       "version_major": 2,
       "version_minor": 0
      },
      "text/plain": [
       "validation-00008-of-00022.parquet:   0%|          | 0.00/421M [00:00<?, ?B/s]"
      ]
     },
     "metadata": {},
     "output_type": "display_data"
    },
    {
     "data": {
      "application/vnd.jupyter.widget-view+json": {
       "model_id": "10ec2dfbd1184529b4ffd4cfadac9800",
       "version_major": 2,
       "version_minor": 0
      },
      "text/plain": [
       "validation-00009-of-00022.parquet:   0%|          | 0.00/452M [00:00<?, ?B/s]"
      ]
     },
     "metadata": {},
     "output_type": "display_data"
    },
    {
     "data": {
      "application/vnd.jupyter.widget-view+json": {
       "model_id": "39d3c8ea8096447d80bb23f138889e22",
       "version_major": 2,
       "version_minor": 0
      },
      "text/plain": [
       "validation-00010-of-00022.parquet:   0%|          | 0.00/386M [00:00<?, ?B/s]"
      ]
     },
     "metadata": {},
     "output_type": "display_data"
    },
    {
     "data": {
      "application/vnd.jupyter.widget-view+json": {
       "model_id": "1cb948cd10cc4456bd5327be7b2ca10b",
       "version_major": 2,
       "version_minor": 0
      },
      "text/plain": [
       "validation-00011-of-00022.parquet:   0%|          | 0.00/374M [00:00<?, ?B/s]"
      ]
     },
     "metadata": {},
     "output_type": "display_data"
    },
    {
     "data": {
      "application/vnd.jupyter.widget-view+json": {
       "model_id": "e86b3eb14bae4f1082e08b2f03e426c0",
       "version_major": 2,
       "version_minor": 0
      },
      "text/plain": [
       "validation-00012-of-00022.parquet:   0%|          | 0.00/448M [00:00<?, ?B/s]"
      ]
     },
     "metadata": {},
     "output_type": "display_data"
    },
    {
     "data": {
      "application/vnd.jupyter.widget-view+json": {
       "model_id": "40e29418df354e3f817de87e873eb5ac",
       "version_major": 2,
       "version_minor": 0
      },
      "text/plain": [
       "validation-00013-of-00022.parquet:   0%|          | 0.00/439M [00:00<?, ?B/s]"
      ]
     },
     "metadata": {},
     "output_type": "display_data"
    },
    {
     "data": {
      "application/vnd.jupyter.widget-view+json": {
       "model_id": "a899d1ae7e1742c18013a7db64d1a721",
       "version_major": 2,
       "version_minor": 0
      },
      "text/plain": [
       "validation-00014-of-00022.parquet:   0%|          | 0.00/435M [00:00<?, ?B/s]"
      ]
     },
     "metadata": {},
     "output_type": "display_data"
    },
    {
     "data": {
      "application/vnd.jupyter.widget-view+json": {
       "model_id": "56c222761dcb4bf7b8065438fa51cc04",
       "version_major": 2,
       "version_minor": 0
      },
      "text/plain": [
       "validation-00015-of-00022.parquet:   0%|          | 0.00/433M [00:00<?, ?B/s]"
      ]
     },
     "metadata": {},
     "output_type": "display_data"
    },
    {
     "data": {
      "application/vnd.jupyter.widget-view+json": {
       "model_id": "b8cca7b35d9842718546c85fd2c6bb4e",
       "version_major": 2,
       "version_minor": 0
      },
      "text/plain": [
       "validation-00016-of-00022.parquet:   0%|          | 0.00/437M [00:00<?, ?B/s]"
      ]
     },
     "metadata": {},
     "output_type": "display_data"
    },
    {
     "data": {
      "application/vnd.jupyter.widget-view+json": {
       "model_id": "e17f498645ce4a4c9a5edfe6cc2f6e87",
       "version_major": 2,
       "version_minor": 0
      },
      "text/plain": [
       "validation-00017-of-00022.parquet:   0%|          | 0.00/402M [00:00<?, ?B/s]"
      ]
     },
     "metadata": {},
     "output_type": "display_data"
    },
    {
     "data": {
      "application/vnd.jupyter.widget-view+json": {
       "model_id": "d1e676fd3f72453a8d1f5a8904f00e0f",
       "version_major": 2,
       "version_minor": 0
      },
      "text/plain": [
       "validation-00018-of-00022.parquet:   0%|          | 0.00/420M [00:00<?, ?B/s]"
      ]
     },
     "metadata": {},
     "output_type": "display_data"
    },
    {
     "data": {
      "application/vnd.jupyter.widget-view+json": {
       "model_id": "a01ee2135e6a41e79d25c371f1ab16eb",
       "version_major": 2,
       "version_minor": 0
      },
      "text/plain": [
       "validation-00019-of-00022.parquet:   0%|          | 0.00/444M [00:00<?, ?B/s]"
      ]
     },
     "metadata": {},
     "output_type": "display_data"
    },
    {
     "data": {
      "application/vnd.jupyter.widget-view+json": {
       "model_id": "7f165554e8de41f68628e126f5ad87cc",
       "version_major": 2,
       "version_minor": 0
      },
      "text/plain": [
       "validation-00020-of-00022.parquet:   0%|          | 0.00/365M [00:00<?, ?B/s]"
      ]
     },
     "metadata": {},
     "output_type": "display_data"
    },
    {
     "data": {
      "application/vnd.jupyter.widget-view+json": {
       "model_id": "ce2978390cb04c628c22a7a8938ca1de",
       "version_major": 2,
       "version_minor": 0
      },
      "text/plain": [
       "validation-00021-of-00022.parquet:   0%|          | 0.00/388M [00:00<?, ?B/s]"
      ]
     },
     "metadata": {},
     "output_type": "display_data"
    },
    {
     "data": {
      "application/vnd.jupyter.widget-view+json": {
       "model_id": "6abe1d29908f46d2b8c6d31143e2dc09",
       "version_major": 2,
       "version_minor": 0
      },
      "text/plain": [
       "Generating train split:   0%|          | 0/477 [00:00<?, ? examples/s]"
      ]
     },
     "metadata": {},
     "output_type": "display_data"
    },
    {
     "data": {
      "application/vnd.jupyter.widget-view+json": {
       "model_id": "0a18266db4e4480f879f31ed9235ff50",
       "version_major": 2,
       "version_minor": 0
      },
      "text/plain": [
       "Generating validation split:   0%|          | 0/262 [00:00<?, ? examples/s]"
      ]
     },
     "metadata": {},
     "output_type": "display_data"
    },
    {
     "data": {
      "application/vnd.jupyter.widget-view+json": {
       "model_id": "f75ba2866e564e5d8d6d3a9d31ad315f",
       "version_major": 2,
       "version_minor": 0
      },
      "text/plain": [
       "Loading dataset shards:   0%|          | 0/21 [00:00<?, ?it/s]"
      ]
     },
     "metadata": {},
     "output_type": "display_data"
    }
   ],
   "source": [
    "MUSDB = load_dataset(\"danjacobellis/musdb_segments\", split='validation')"
   ]
  },
  {
   "cell_type": "code",
   "execution_count": 8,
   "id": "8024e4dc-ba66-4c7c-a543-642a0e45c33c",
   "metadata": {},
   "outputs": [],
   "source": [
    "def pad(audio, p=2**16):\n",
    "    B,C,L = audio.shape\n",
    "    padding_size = (p - (L % p)) % p\n",
    "    if padding_size > 0:\n",
    "        audio = torch.nn.functional.pad(audio, (0, padding_size), mode='constant', value=0)\n",
    "    return audio"
   ]
  },
  {
   "cell_type": "code",
   "execution_count": 18,
   "id": "021b474e-b622-49da-b074-d426d754b124",
   "metadata": {},
   "outputs": [],
   "source": [
    "def stable_audio_compress(sample):\n",
    "    with torch.no_grad():\n",
    "        x, fs = torchaudio.load(sample['audio_mix']['bytes'],normalize=False)\n",
    "        x = x.to(torch.float)\n",
    "        x = x - x.mean()\n",
    "        max_abs = x.abs().max()\n",
    "        x = x / (max_abs + 1e-8)\n",
    "        x = x/2\n",
    "        L = x.shape[-1]\n",
    "\n",
    "        t0 = time.time()\n",
    "        x_padded = pad(x.unsqueeze(0), 2**16).to(device).to(torch.float16)\n",
    "        Y = codec.encode(x_padded).latent_dist.mode().to(torch.float16).to(\"cpu\")\n",
    "        torch.save(Y,'temp.pth')\n",
    "        encode_time = time.time() - t0\n",
    "    \n",
    "        t0 = time.time()\n",
    "        Y = torch.load('temp.pth')\n",
    "        x_hat = codec.decode(Y.to(torch.float16).to(device)).sample\n",
    "        x_hat = x_hat[0,:,:L].clamp(-0.5, 0.5)\n",
    "        decode_time = time.time() - t0\n",
    "    \n",
    "        bps = 16*Y.numel()/(x.numel())\n",
    "        PSNR = -10*np.log10(torch.nn.functional.mse_loss(x,x_hat.to(\"cpu\")))\n",
    "        \n",
    "    return {\n",
    "        'compressed': Y,\n",
    "        'encode_time': encode_time,\n",
    "        'decode_time': decode_time,\n",
    "        'bps': bps,\n",
    "        'L': L,\n",
    "        'PSNR': PSNR,\n",
    "    }"
   ]
  },
  {
   "cell_type": "code",
   "execution_count": 19,
   "id": "ff8eb8f0-43f8-46bc-8418-62c9f207caa3",
   "metadata": {},
   "outputs": [
    {
     "data": {
      "application/vnd.jupyter.widget-view+json": {
       "model_id": "300da3be320c4acab46b0879ecae326b",
       "version_major": 2,
       "version_minor": 0
      },
      "text/plain": [
       "Map:   0%|          | 0/262 [00:00<?, ? examples/s]"
      ]
     },
     "metadata": {},
     "output_type": "display_data"
    },
    {
     "name": "stderr",
     "output_type": "stream",
     "text": [
      "/tmp/ipykernel_81135/467681349.py:24: DeprecationWarning: __array_wrap__ must accept context and return_scalar arguments (positionally) in the future. (Deprecated NumPy 2.0)\n",
      "  PSNR = -10*np.log10(torch.nn.functional.mse_loss(x,x_hat.to(\"cpu\")))\n"
     ]
    }
   ],
   "source": [
    "device = \"cuda\"\n",
    "codec = codec.to(device)\n",
    "gpu = MUSDB.map(\n",
    "    stable_audio_compress,\n",
    "    writer_batch_size=16,\n",
    ")"
   ]
  },
  {
   "cell_type": "code",
   "execution_count": 20,
   "id": "f58c9ef6-d925-48a0-81e3-4d4f029f892d",
   "metadata": {},
   "outputs": [],
   "source": [
    "metrics = [\n",
    "    'encode_time',\n",
    "    'decode_time',\n",
    "    'bps',\n",
    "    'PSNR',\n",
    "]"
   ]
  },
  {
   "cell_type": "code",
   "execution_count": 21,
   "id": "a79683ca-4a61-4940-9c65-e680df7e1ca9",
   "metadata": {},
   "outputs": [
    {
     "name": "stdout",
     "output_type": "stream",
     "text": [
      "encode_time: 0.17102854397460704\n",
      "decode_time: 0.0031851156977296784\n",
      "bps: 0.25\n",
      "PSNR: 28.415494831463764\n"
     ]
    }
   ],
   "source": [
    "for metric in metrics:\n",
    "    μ = np.mean(gpu[metric])\n",
    "    print(f\"{metric}: {μ}\")"
   ]
  },
  {
   "cell_type": "code",
   "execution_count": 22,
   "id": "37d6cc1a-ec77-48a7-8949-958695e80d8a",
   "metadata": {},
   "outputs": [
    {
     "data": {
      "text/plain": [
       "tensor(12.3074)"
      ]
     },
     "execution_count": 22,
     "metadata": {},
     "output_type": "execute_result"
    }
   ],
   "source": [
    "(torch.tensor(gpu['L'])/torch.tensor(gpu['encode_time'])).mean()/1e6"
   ]
  },
  {
   "cell_type": "code",
   "execution_count": 23,
   "id": "0d4fca97-937d-4bbd-a9f4-69be6a2e81e0",
   "metadata": {},
   "outputs": [
    {
     "data": {
      "text/plain": [
       "tensor(670.7079)"
      ]
     },
     "execution_count": 23,
     "metadata": {},
     "output_type": "execute_result"
    }
   ],
   "source": [
    "(torch.tensor(gpu['L'])/torch.tensor(gpu['decode_time'])).mean()/1e6"
   ]
  }
 ],
 "metadata": {
  "kernelspec": {
   "display_name": "Python 3.11",
   "language": "python",
   "name": "python3.11"
  },
  "language_info": {
   "codemirror_mode": {
    "name": "ipython",
    "version": 3
   },
   "file_extension": ".py",
   "mimetype": "text/x-python",
   "name": "python",
   "nbconvert_exporter": "python",
   "pygments_lexer": "ipython3",
   "version": "3.11.0rc1"
  }
 },
 "nbformat": 4,
 "nbformat_minor": 5
}
