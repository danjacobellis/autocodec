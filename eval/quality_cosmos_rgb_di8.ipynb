{
 "cells": [
  {
   "cell_type": "code",
   "execution_count": 1,
   "id": "4fc4d032-ac60-4670-9f79-f48f9a6ee4b8",
   "metadata": {},
   "outputs": [],
   "source": [
    "import io\n",
    "import time\n",
    "import torch\n",
    "import datasets\n",
    "import PIL.Image\n",
    "import numpy as np\n",
    "import torch.nn as nn\n",
    "from types import SimpleNamespace\n",
    "from piq import LPIPS, DISTS, SSIMLoss\n",
    "from huggingface_hub import snapshot_download\n",
    "from cosmos_tokenizer.image_lib import ImageTokenizer\n",
    "from torchvision.transforms.v2 import Pad, CenterCrop\n",
    "from torchvision.transforms.v2.functional import to_pil_image, pil_to_tensor"
   ]
  },
  {
   "cell_type": "code",
   "execution_count": 2,
   "id": "32bae16e-d171-4dbb-ba37-5672dc433186",
   "metadata": {},
   "outputs": [
    {
     "name": "stderr",
     "output_type": "stream",
     "text": [
      "/home/dgj335/.local/lib/python3.11/site-packages/torchvision/models/_utils.py:208: UserWarning: The parameter 'pretrained' is deprecated since 0.13 and may be removed in the future, please use 'weights' instead.\n",
      "  warnings.warn(\n",
      "/home/dgj335/.local/lib/python3.11/site-packages/torchvision/models/_utils.py:223: UserWarning: Arguments other than a weight enum or `None` for 'weights' are deprecated since 0.13 and may be removed in the future. The current behavior is equivalent to passing `weights=VGG16_Weights.IMAGENET1K_V1`. You can also use `weights=VGG16_Weights.DEFAULT` to get the most up-to-date weights.\n",
      "  warnings.warn(msg)\n"
     ]
    },
    {
     "data": {
      "application/vnd.jupyter.widget-view+json": {
       "model_id": "ef82687f2de341b68320e4651760dbb9",
       "version_major": 2,
       "version_minor": 0
      },
      "text/plain": [
       "Resolving data files:   0%|          | 0/1024 [00:00<?, ?it/s]"
      ]
     },
     "metadata": {},
     "output_type": "display_data"
    },
    {
     "data": {
      "application/vnd.jupyter.widget-view+json": {
       "model_id": "464ee24fa22740168d4ce0fc00a3c44b",
       "version_major": 2,
       "version_minor": 0
      },
      "text/plain": [
       "Resolving data files:   0%|          | 0/64 [00:00<?, ?it/s]"
      ]
     },
     "metadata": {},
     "output_type": "display_data"
    },
    {
     "data": {
      "application/vnd.jupyter.widget-view+json": {
       "model_id": "7d1db7f9a61d4a88aa4a451dbada5c8a",
       "version_major": 2,
       "version_minor": 0
      },
      "text/plain": [
       "Fetching 7 files:   0%|          | 0/7 [00:00<?, ?it/s]"
      ]
     },
     "metadata": {},
     "output_type": "display_data"
    }
   ],
   "source": [
    "device = \"cuda\"\n",
    "lpips_loss = LPIPS().to(device)\n",
    "dists_loss = DISTS().to(device)\n",
    "ssim_loss = SSIMLoss().to(device)\n",
    "# kodak = datasets.load_dataset(\"danjacobellis/kodak\", split='validation')\n",
    "# lsdir = datasets.load_dataset(\"danjacobellis/LSDIR_val\", split='validation')\n",
    "inet = datasets.load_dataset(\"timm/imagenet-1k-wds\",split='validation')\n",
    "model_path = snapshot_download(repo_id='nvidia/Cosmos-Tokenizer-DI8x8')\n",
    "encoder = ImageTokenizer(checkpoint_enc=f'{model_path}/encoder.jit').to(device)\n",
    "decoder = ImageTokenizer(checkpoint_dec=f'{model_path}/decoder.jit').to(device)"
   ]
  },
  {
   "cell_type": "code",
   "execution_count": 3,
   "id": "0fff95d9-da97-4122-8794-265ef0f499f4",
   "metadata": {},
   "outputs": [],
   "source": [
    "sample = inet[0]\n",
    "img = sample['jpg'].convert(\"RGB\")\n",
    "aspect = img.width/img.height\n",
    "img = img.resize((int(16*(1024*aspect//16)),1024),resample=PIL.Image.Resampling.LANCZOS)"
   ]
  },
  {
   "cell_type": "code",
   "execution_count": 4,
   "id": "f643d1d8-a23b-49bd-8a2d-cc74719cf545",
   "metadata": {},
   "outputs": [],
   "source": [
    "def evaluate_quality_h1024(sample):\n",
    "    img = sample['jpg'].convert(\"RGB\")\n",
    "    aspect = img.width/img.height\n",
    "    img = img.resize((int(16*(1024*aspect//16)),1024),resample=PIL.Image.Resampling.LANCZOS)\n",
    "    if img.width>2048:\n",
    "        img = CenterCrop((1024,2048))(img)\n",
    "    x_orig = pil_to_tensor(img).to(device).unsqueeze(0).to(torch.float) / 127.5 - 1.0\n",
    "    orig_dim = x_orig.numel() \n",
    "\n",
    "    t0 = time.time()\n",
    "    with torch.no_grad():\n",
    "        z = encoder.encode(x_orig)[0]\n",
    "\n",
    "    torch.save(z,'temp.pth')\n",
    "    encode_time = time.time() - t0\n",
    "    size_bytes = 2*z.numel()\n",
    "    t0 = time.time()\n",
    "    z = torch.load(\"temp.pth\")\n",
    "    with torch.no_grad():\n",
    "        x_hat = decoder.decode(z).to(torch.float).clamp(-1,1)\n",
    "    decode_time = time.time() - t0\n",
    "\n",
    "    x_orig_01 = x_orig / 2 + 0.5\n",
    "    x_hat_01 = x_hat / 2 + 0.5\n",
    "\n",
    "    pixels = img.width * img.height\n",
    "    bpp = 8 * size_bytes / pixels\n",
    "    mse = torch.nn.functional.mse_loss(x_orig_01[0], x_hat_01[0])\n",
    "    PSNR = -10 * mse.log10().item()\n",
    "    LPIPS_dB = -10 * np.log10(lpips_loss(x_orig_01.to(\"cuda\"), x_hat_01.to(\"cuda\")).item())\n",
    "    DISTS_dB = -10 * np.log10(dists_loss(x_orig_01.to(\"cuda\"), x_hat_01.to(\"cuda\")).item())\n",
    "    SSIM = 1 - ssim_loss(x_orig_01.to(\"cuda\"), x_hat_01.to(\"cuda\")).item()\n",
    "\n",
    "    return {\n",
    "        'pixels': pixels,\n",
    "        'encode_time': encode_time,\n",
    "        'decode_time': decode_time,\n",
    "        'bpp': bpp,\n",
    "        'PSNR': PSNR,\n",
    "        'LPIPS_dB': LPIPS_dB,\n",
    "        'DISTS_dB': DISTS_dB,\n",
    "        'SSIM': SSIM,\n",
    "    }"
   ]
  },
  {
   "cell_type": "code",
   "execution_count": 5,
   "id": "504525eb-b41f-4d27-b9f8-150f85fb37b0",
   "metadata": {},
   "outputs": [],
   "source": [
    "metrics = [\n",
    "    'pixels',\n",
    "    'encode_time',\n",
    "    'decode_time',\n",
    "    'bpp',\n",
    "    'PSNR',\n",
    "    'LPIPS_dB',\n",
    "    'DISTS_dB',\n",
    "    'SSIM',\n",
    "]"
   ]
  },
  {
   "cell_type": "code",
   "execution_count": null,
   "id": "1df8f073-8e85-4f1d-b401-f7eae7aba776",
   "metadata": {},
   "outputs": [
    {
     "name": "stderr",
     "output_type": "stream",
     "text": [
      "Parameter 'function'=<function <lambda> at 0x731aca630860> of the transform datasets.arrow_dataset.Dataset._map_single couldn't be hashed properly, a random hash was used instead. Make sure your transforms and parameters are serializable with pickle or dill for the dataset fingerprinting and caching to work. If you reuse this transform, the caching mechanism will consider it to be different from the previous calls and recompute everything. This warning is only showed once. Subsequent hashing failures won't be showed.\n"
     ]
    },
    {
     "data": {
      "application/vnd.jupyter.widget-view+json": {
       "model_id": "fe769ac716334627b0e8613ff912994f",
       "version_major": 2,
       "version_minor": 0
      },
      "text/plain": [
       "Map:   0%|          | 0/50000 [00:00<?, ? examples/s]"
      ]
     },
     "metadata": {},
     "output_type": "display_data"
    }
   ],
   "source": [
    "results_dataset = inet.map(lambda s: evaluate_quality_h1024(s))\n",
    "\n",
    "print(\"mean\\n---\")\n",
    "for metric in metrics:\n",
    "    μ = np.mean(results_dataset[metric])\n",
    "    print(f\"{metric}: {μ}\")\n",
    "print(f\"{np.mean(np.array(results_dataset['pixels'])/1e6/np.array(results_dataset['encode_time']))} MP/sec\")\n",
    "print(f\"{np.mean(np.array(results_dataset['pixels'])/1e6/np.array(results_dataset['decode_time']))} MP/sec\")"
   ]
  },
  {
   "cell_type": "code",
   "execution_count": 8,
   "id": "ecd42e7a-b7bf-4a6a-9a2e-5c0810f1b76c",
   "metadata": {},
   "outputs": [
    {
     "name": "stdout",
     "output_type": "stream",
     "text": [
      "mean\n",
      "---\n",
      "pixels: 1231579.70944\n",
      "encode_time: 0.02353276755809784\n",
      "decode_time: 0.05308341161727905\n",
      "bpp: 0.25\n",
      "PSNR: 31.205990352225303\n",
      "LPIPS_dB: 8.691300465058056\n",
      "DISTS_dB: 16.075510406871214\n",
      "SSIM: 0.9524727425146103\n",
      "54.95800356451237 MP/sec\n",
      "23.992710664737206 MP/sec\n"
     ]
    }
   ],
   "source": [
    "print(\"mean\\n---\")\n",
    "for metric in metrics:\n",
    "    μ = np.mean(results_dataset[metric])\n",
    "    print(f\"{metric}: {μ}\")\n",
    "print(f\"{np.mean(np.array(results_dataset['pixels'])/1e6/np.array(results_dataset['encode_time']))} MP/sec\")\n",
    "print(f\"{np.mean(np.array(results_dataset['pixels'])/1e6/np.array(results_dataset['decode_time']))} MP/sec\")"
   ]
  }
 ],
 "metadata": {
  "kernelspec": {
   "display_name": "Python 3.11",
   "language": "python",
   "name": "python3.11"
  },
  "language_info": {
   "codemirror_mode": {
    "name": "ipython",
    "version": 3
   },
   "file_extension": ".py",
   "mimetype": "text/x-python",
   "name": "python",
   "nbconvert_exporter": "python",
   "pygments_lexer": "ipython3",
   "version": "3.11.0rc1"
  }
 },
 "nbformat": 4,
 "nbformat_minor": 5
}
