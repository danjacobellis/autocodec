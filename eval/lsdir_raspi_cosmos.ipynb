{
 "cells": [
  {
   "cell_type": "code",
   "execution_count": 1,
   "id": "edb7d1ed-cfe7-4a60-a5ef-4e7083205b0e",
   "metadata": {},
   "outputs": [
    {
     "name": "stderr",
     "output_type": "stream",
     "text": [
      "/home/dan/.local/lib/python3.10/site-packages/tqdm/auto.py:21: TqdmWarning: IProgress not found. Please update jupyter and ipywidgets. See https://ipywidgets.readthedocs.io/en/stable/user_install.html\n",
      "  from .autonotebook import tqdm as notebook_tqdm\n"
     ]
    }
   ],
   "source": [
    "import torch\n",
    "import datasets\n",
    "from huggingface_hub import snapshot_download\n",
    "from cosmos_tokenizer.image_lib import ImageTokenizer"
   ]
  },
  {
   "cell_type": "code",
   "execution_count": null,
   "id": "c82df6d4-ce68-4e2a-b70f-09b85ce35604",
   "metadata": {},
   "outputs": [
    {
     "name": "stderr",
     "output_type": "stream",
     "text": [
      "Fetching 7 files: 100%|█████████████████████████████████████████████████████████████████| 7/7 [00:00<00:00, 7740.61it/s]"
     ]
    }
   ],
   "source": [
    "device = \"cpu\"\n",
    "kodak = datasets.load_dataset(\"danjacobellis/kodak\", split='validation')\n",
    "model_path = snapshot_download(repo_id='nvidia/Cosmos-Tokenizer-DI8x8')\n",
    "encoder = ImageTokenizer(\n",
    "    checkpoint_enc=torch.jit.load(f'{model_path}/encoder.jit', map_location=device)\n",
    ").to(device)\n",
    "\n",
    "# python dies before getting to the decoder\n",
    "\n",
    "decoder = ImageTokenizer(\n",
    "    checkpoint_dec=torch.jit.load(f'{model_path}/decoder.jit', map_location=device)\n",
    ").to(device)"
   ]
  }
 ],
 "metadata": {
  "kernelspec": {
   "display_name": "Python 3 (ipykernel)",
   "language": "python",
   "name": "python3"
  },
  "language_info": {
   "codemirror_mode": {
    "name": "ipython",
    "version": 3
   },
   "file_extension": ".py",
   "mimetype": "text/x-python",
   "name": "python",
   "nbconvert_exporter": "python",
   "pygments_lexer": "ipython3",
   "version": "3.10.7"
  }
 },
 "nbformat": 4,
 "nbformat_minor": 5
}
