{
 "cells": [
  {
   "cell_type": "code",
   "execution_count": null,
   "id": "6d7db02c-516f-4ddd-ba4a-31b7dcc18526",
   "metadata": {},
   "outputs": [],
   "source": [
    "import io\n",
    "import time\n",
    "import torch\n",
    "import numpy as np\n",
    "import PIL\n",
    "import torchaudio\n",
    "import datasets\n",
    "import matplotlib.pyplot as plt\n",
    "import einops\n",
    "from IPython.display import Audio\n",
    "from types import SimpleNamespace\n",
    "from torchvision.transforms.v2 import CenterCrop\n",
    "from autocodec.codec import AutoCodecND, latent_to_pil, pil_to_latent\n",
    "from IPython.display import Audio as play"
   ]
  },
  {
   "cell_type": "code",
   "execution_count": null,
   "id": "12230ef2-5459-483f-967c-5cb734c5774c",
   "metadata": {},
   "outputs": [],
   "source": [
    "def pad(audio, p=2**16):\n",
    "    B,C,L = audio.shape\n",
    "    padding_size = (p - (L % p)) % p\n",
    "    if padding_size > 0:\n",
    "        audio = torch.nn.functional.pad(audio, (0, padding_size), mode='constant', value=0)\n",
    "    return audio"
   ]
  },
  {
   "cell_type": "code",
   "execution_count": null,
   "id": "eea68b9d-1e5a-432f-af4a-8ad4447fcf3d",
   "metadata": {},
   "outputs": [],
   "source": [
    "dataset = datasets.load_dataset(\"danjacobellis/aria_ea_audio_preprocessed\").with_format(\"numpy\",dtype='float16')"
   ]
  },
  {
   "cell_type": "code",
   "execution_count": null,
   "id": "37a32ba4-7389-4f20-9887-ed52c042dc56",
   "metadata": {},
   "outputs": [],
   "source": [
    "device = 'cuda'\n",
    "checkpoint = torch.load('../../hf/autocodec/aria_7ch_f128c28.pth', map_location=\"cpu\",weights_only=False)\n",
    "config = checkpoint['config']\n",
    "state_dict = checkpoint['state_dict']\n",
    "model = AutoCodecND(\n",
    "    dim=1,\n",
    "    input_channels=config.input_channels,\n",
    "    J = int(np.log2(config.F)),\n",
    "    latent_dim=config.latent_dim,\n",
    "    encoder_depth = config.encoder_depth,\n",
    "    encoder_kernel_size = config.encoder_kernel_size,\n",
    "    decoder_depth = config.decoder_depth,\n",
    "    lightweight_encode = config.lightweight_encode,\n",
    "    lightweight_decode = config.lightweight_decode,\n",
    ").to(device)\n",
    "model.load_state_dict(state_dict)\n",
    "model.to(torch.bfloat16)\n",
    "model.eval();"
   ]
  },
  {
   "cell_type": "code",
   "execution_count": null,
   "id": "64b1d6f9-7ea3-4201-a52e-2bd8146211f1",
   "metadata": {},
   "outputs": [],
   "source": [
    "zhat.dtype"
   ]
  },
  {
   "cell_type": "code",
   "execution_count": null,
   "id": "f58eac5e-463e-45ba-b5dd-8486485f7807",
   "metadata": {},
   "outputs": [],
   "source": [
    "sample = dataset['validation'][0]\n",
    "x = torch.tensor(sample['audio']).permute(1,0)\n",
    "L = x.shape[-1]\n",
    "\n",
    "t0 = time.time()\n",
    "x_padded = pad(x.unsqueeze(0), config.F*32).to(device).to(torch.bfloat16)\n",
    "with torch.no_grad():\n",
    "    z = model.quantize.compand(model.encode(x_padded)).round().cpu()\n",
    "img_list = latent_to_pil(\n",
    "    einops.rearrange(z,'b c (h w) -> c b h w', h=32),n_bits=16,C=1)\n",
    "buff_list = []\n",
    "for img in img_list:\n",
    "    buff_list.append(io.BytesIO())\n",
    "    img.save(buff_list[-1], format='TIFF', compression='tiff_adobe_deflate')\n",
    "encode_time = time.time() - t0\n",
    "\n",
    "CR = 2*x.numel()/sum(len(b.getbuffer()) for b in buff_list)\n",
    "\n",
    "t0 = time.time()\n",
    "zhat = pil_to_latent([PIL.Image.open(b) for b in buff_list], N=1, n_bits=8, C=1)\n",
    "zhat = z.clone().to(device).to(torch.bfloat16)\n",
    "with torch.no_grad():\n",
    "    xhat = model.decode(zhat)\n",
    "xhat = xhat.clamp(-1,1)\n",
    "decode_time = time.time() - t0\n",
    "\n",
    "xhat = xhat.to(\"cpu\").to(torch.float)\n",
    "xhat = CenterCrop((config.input_channels,x.shape[1]))(xhat)[0]\n",
    "mse = torch.nn.functional.mse_loss(x,xhat)\n",
    "PSNR = -10*mse.log10().item() + 6.02"
   ]
  },
  {
   "cell_type": "code",
   "execution_count": null,
   "id": "c4fad6d0-561a-4355-88ea-ba4b985dfa9d",
   "metadata": {},
   "outputs": [],
   "source": [
    "CR"
   ]
  },
  {
   "cell_type": "code",
   "execution_count": null,
   "id": "7f47177c-ad70-444e-9d66-030ad3b3758d",
   "metadata": {},
   "outputs": [],
   "source": [
    "PSNR"
   ]
  }
 ],
 "metadata": {
  "kernelspec": {
   "display_name": "Python 3.11",
   "language": "python",
   "name": "python3.11"
  },
  "language_info": {
   "codemirror_mode": {
    "name": "ipython",
    "version": 3
   },
   "file_extension": ".py",
   "mimetype": "text/x-python",
   "name": "python",
   "nbconvert_exporter": "python",
   "pygments_lexer": "ipython3",
   "version": "3.11.0rc1"
  }
 },
 "nbformat": 4,
 "nbformat_minor": 5
}
