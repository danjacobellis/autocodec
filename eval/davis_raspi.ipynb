{
 "cells": [
  {
   "cell_type": "code",
   "execution_count": null,
   "id": "49a82dc6-621f-448c-89c9-8c695a31a527",
   "metadata": {},
   "outputs": [],
   "source": [
    "!wget https://huggingface.co/danjacobellis/dance/resolve/main/video_f8c48_encoder.pth"
   ]
  },
  {
   "cell_type": "code",
   "execution_count": 1,
   "id": "a51d8fa8-e52a-4fad-864b-8ed908f7b220",
   "metadata": {},
   "outputs": [],
   "source": [
    "import torch\n",
    "import datasets\n",
    "import numpy as np\n",
    "from autocodec.codec import AutoCodecND"
   ]
  },
  {
   "cell_type": "code",
   "execution_count": 2,
   "id": "7070a780-dfee-407f-a3a7-7bb0a6269997",
   "metadata": {},
   "outputs": [
    {
     "data": {
      "text/plain": [
       "<All keys matched successfully>"
      ]
     },
     "execution_count": 2,
     "metadata": {},
     "output_type": "execute_result"
    }
   ],
   "source": [
    "ds = datasets.load_dataset(\"danjacobellis/davis3\",split='validation').cast_column('video', datasets.Video()).with_format(\"torch\")\n",
    "checkpoint = torch.load('video_f8c48_encoder.pth', map_location=\"cpu\",weights_only=False)\n",
    "config = checkpoint['config']\n",
    "state_dict = checkpoint['state_dict']\n",
    "model = AutoCodecND(\n",
    "    dim=3,\n",
    "    input_channels=config.input_channels,\n",
    "    J = int(np.log2(config.F)),\n",
    "    latent_dim=config.latent_dim,\n",
    "    encoder_depth = config.encoder_depth,\n",
    "    encoder_kernel_size = config.encoder_kernel_size,\n",
    "    decoder_depth = 1,\n",
    "    lightweight_encode = config.lightweight_encode,\n",
    "    lightweight_decode = True,\n",
    ")\n",
    "del model.decoder_blocks\n",
    "model.load_state_dict(state_dict)"
   ]
  },
  {
   "cell_type": "code",
   "execution_count": 3,
   "id": "57eb78cc-b2f9-4db6-b0ff-b0928b70faef",
   "metadata": {},
   "outputs": [],
   "source": [
    "for sample in ds:\n",
    "    video = sample['video']\n",
    "    eight_frames = torch.cat([next(video)['data'].unsqueeze(1) for i_frame in range(8)],dim=1).unsqueeze(0)\n",
    "    eight_frames = eight_frames[:,:,:,:480,:640]\n",
    "    eight_frames = eight_frames.to(torch.float)/127.5 - 1.0\n",
    "    break"
   ]
  },
  {
   "cell_type": "code",
   "execution_count": 4,
   "id": "3ea29599-c2f0-4a7a-b64b-3cd5477d579a",
   "metadata": {},
   "outputs": [
    {
     "data": {
      "text/plain": [
       "torch.Size([1, 3, 8, 480, 640])"
      ]
     },
     "execution_count": 4,
     "metadata": {},
     "output_type": "execute_result"
    }
   ],
   "source": [
    "eight_frames.shape"
   ]
  },
  {
   "cell_type": "code",
   "execution_count": 5,
   "id": "a4391489-aff1-4750-afc4-f1ec8e3f31a0",
   "metadata": {},
   "outputs": [
    {
     "name": "stdout",
     "output_type": "stream",
     "text": [
      "CPU times: user 22.5 s, sys: 3.01 s, total: 25.5 s\n",
      "Wall time: 7.29 s\n"
     ]
    }
   ],
   "source": [
    "%%time\n",
    "with torch.no_grad():\n",
    "    z = model.quantize.compand(model.encode(eight_frames)).round()"
   ]
  },
  {
   "cell_type": "code",
   "execution_count": 7,
   "id": "0ee98d46-2657-41f3-91c1-e2709b8dbb0d",
   "metadata": {},
   "outputs": [
    {
     "data": {
      "text/plain": [
       "0.337119341563786"
      ]
     },
     "execution_count": 7,
     "metadata": {},
     "output_type": "execute_result"
    }
   ],
   "source": [
    "8*(640*480/1e6)/7.29"
   ]
  }
 ],
 "metadata": {
  "kernelspec": {
   "display_name": "Python 3 (ipykernel)",
   "language": "python",
   "name": "python3"
  },
  "language_info": {
   "codemirror_mode": {
    "name": "ipython",
    "version": 3
   },
   "file_extension": ".py",
   "mimetype": "text/x-python",
   "name": "python",
   "nbconvert_exporter": "python",
   "pygments_lexer": "ipython3",
   "version": "3.9.2"
  }
 },
 "nbformat": 4,
 "nbformat_minor": 5
}
