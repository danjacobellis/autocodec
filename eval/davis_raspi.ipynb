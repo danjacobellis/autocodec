{
 "cells": [
  {
   "cell_type": "code",
   "execution_count": null,
   "id": "49a82dc6-621f-448c-89c9-8c695a31a527",
   "metadata": {},
   "outputs": [],
   "source": [
    "!wget https://huggingface.co/danjacobellis/dance/resolve/main/video_f8c48.pth"
   ]
  },
  {
   "cell_type": "code",
   "execution_count": null,
   "id": "d57abafe-51bc-473c-b645-4e8c73ef08af",
   "metadata": {},
   "outputs": [],
   "source": [
    "import torch\n",
    "import datasets"
   ]
  },
  {
   "cell_type": "code",
   "execution_count": null,
   "id": "16c80fba-931a-45c2-b4fc-02cf7b87d6a2",
   "metadata": {},
   "outputs": [],
   "source": [
    "ds = datasets.load_dataset(\"danjacobellis/davis3\",split='validation').cast_column('video', datasets.Video()).with_format(\"torch\")"
   ]
  },
  {
   "cell_type": "code",
   "execution_count": null,
   "id": "57eb78cc-b2f9-4db6-b0ff-b0928b70faef",
   "metadata": {},
   "outputs": [],
   "source": [
    "for sample in ds:\n",
    "    video = torch.cat([f['data'].unsqueeze(1) for f in sample['video']],dim=1).unsqueeze(0)"
   ]
  },
  {
   "cell_type": "code",
   "execution_count": null,
   "id": "617e4574-7256-449a-be2b-dafeaf81598e",
   "metadata": {},
   "outputs": [],
   "source": [
    "video.shape"
   ]
  }
 ],
 "metadata": {
  "kernelspec": {
   "display_name": "Python 3 (ipykernel)",
   "language": "python",
   "name": "python3"
  },
  "language_info": {
   "codemirror_mode": {
    "name": "ipython",
    "version": 3
   },
   "file_extension": ".py",
   "mimetype": "text/x-python",
   "name": "python",
   "nbconvert_exporter": "python",
   "pygments_lexer": "ipython3",
   "version": "3.9.2"
  }
 },
 "nbformat": 4,
 "nbformat_minor": 5
}
