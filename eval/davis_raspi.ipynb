{
 "cells": [
  {
   "cell_type": "code",
   "execution_count": null,
   "id": "49a82dc6-621f-448c-89c9-8c695a31a527",
   "metadata": {},
   "outputs": [],
   "source": [
    "!wget https://huggingface.co/danjacobellis/dance/resolve/main/video_f8c48.pth"
   ]
  },
  {
   "cell_type": "code",
   "execution_count": 1,
   "id": "a51d8fa8-e52a-4fad-864b-8ed908f7b220",
   "metadata": {},
   "outputs": [],
   "source": [
    "import torch\n",
    "import numpy as np\n",
    "from autocodec.codec import AutoCodecND"
   ]
  },
  {
   "cell_type": "code",
   "execution_count": 2,
   "id": "7070a780-dfee-407f-a3a7-7bb0a6269997",
   "metadata": {},
   "outputs": [],
   "source": [
    "checkpoint = torch.load('video_f8c48.pth', map_location=\"cpu\",weights_only=False)\n",
    "config = checkpoint['config']\n",
    "state_dict = checkpoint['state_dict']\n",
    "model = AutoCodecND(\n",
    "    dim=3,\n",
    "    input_channels=config.input_channels,\n",
    "    J = int(np.log2(config.F)),\n",
    "    latent_dim=config.latent_dim,\n",
    "    encoder_depth = config.encoder_depth,\n",
    "    encoder_kernel_size = config.encoder_kernel_size,\n",
    "    decoder_depth = config.decoder_depth,\n",
    "    lightweight_encode = config.lightweight_encode,\n",
    "    lightweight_decode = config.lightweight_decode,\n",
    ")\n",
    "model.load_state_dict(state_dict)\n",
    "del model.decoder_blocks"
   ]
  },
  {
   "cell_type": "code",
   "execution_count": 3,
   "id": "fdc8db74-41d2-4daf-946d-897761076ff2",
   "metadata": {},
   "outputs": [
    {
     "data": {
      "text/plain": [
       "1.417008"
      ]
     },
     "execution_count": 3,
     "metadata": {},
     "output_type": "execute_result"
    }
   ],
   "source": [
    "sum(p.numel() for p in model.parameters())/1e6"
   ]
  },
  {
   "cell_type": "code",
   "execution_count": 4,
   "id": "fda6ed98-55f7-4b78-8a32-c99fc2e3f5eb",
   "metadata": {},
   "outputs": [],
   "source": [
    "torch.save({\n",
    "    'config': config,\n",
    "    'state_dict': model.state_dict()\n",
    "}, '../../hf/dance/video_f8c48_encoder.pth')"
   ]
  },
  {
   "cell_type": "code",
   "execution_count": 1,
   "id": "d57abafe-51bc-473c-b645-4e8c73ef08af",
   "metadata": {},
   "outputs": [],
   "source": [
    "import torch\n",
    "import datasets"
   ]
  },
  {
   "cell_type": "code",
   "execution_count": 2,
   "id": "16c80fba-931a-45c2-b4fc-02cf7b87d6a2",
   "metadata": {},
   "outputs": [],
   "source": [
    "ds = datasets.load_dataset(\"danjacobellis/davis3\",split='validation').cast_column('video', datasets.Video()).with_format(\"torch\")"
   ]
  },
  {
   "cell_type": "code",
   "execution_count": 3,
   "id": "57eb78cc-b2f9-4db6-b0ff-b0928b70faef",
   "metadata": {},
   "outputs": [],
   "source": [
    "for sample in ds:\n",
    "    video = torch.cat([f['data'].unsqueeze(1) for f in sample['video']],dim=1).unsqueeze(0)"
   ]
  },
  {
   "cell_type": "code",
   "execution_count": 4,
   "id": "617e4574-7256-449a-be2b-dafeaf81598e",
   "metadata": {},
   "outputs": [
    {
     "data": {
      "text/plain": [
       "torch.Size([1, 3, 25, 1080, 1920])"
      ]
     },
     "execution_count": 4,
     "metadata": {},
     "output_type": "execute_result"
    }
   ],
   "source": [
    "video.shape"
   ]
  }
 ],
 "metadata": {
  "kernelspec": {
   "display_name": "Python 3 (ipykernel)",
   "language": "python",
   "name": "python3"
  },
  "language_info": {
   "codemirror_mode": {
    "name": "ipython",
    "version": 3
   },
   "file_extension": ".py",
   "mimetype": "text/x-python",
   "name": "python",
   "nbconvert_exporter": "python",
   "pygments_lexer": "ipython3",
   "version": "3.10.12"
  }
 },
 "nbformat": 4,
 "nbformat_minor": 5
}
