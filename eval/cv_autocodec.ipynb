{
 "cells": [
  {
   "cell_type": "code",
   "execution_count": 1,
   "id": "6d7db02c-516f-4ddd-ba4a-31b7dcc18526",
   "metadata": {},
   "outputs": [],
   "source": [
    "import io\n",
    "import time\n",
    "import torch\n",
    "import numpy as np\n",
    "import PIL\n",
    "import torchaudio\n",
    "import datasets\n",
    "import matplotlib.pyplot as plt\n",
    "import einops\n",
    "from IPython.display import Audio\n",
    "from types import SimpleNamespace\n",
    "from torchvision.transforms.v2 import CenterCrop\n",
    "from autocodec.codec import AutoCodecND, latent_to_pil, pil_to_latent\n",
    "from IPython.display import Audio as play"
   ]
  },
  {
   "cell_type": "code",
   "execution_count": 2,
   "id": "37a32ba4-7389-4f20-9887-ed52c042dc56",
   "metadata": {},
   "outputs": [],
   "source": [
    "device = 'cuda'\n",
    "checkpoint = torch.load('../../hf/autocodec/cv_f512c8.pth', map_location=\"cpu\",weights_only=False)\n",
    "config = checkpoint['config']\n",
    "state_dict = checkpoint['state_dict']\n",
    "model = AutoCodecND(\n",
    "    dim=1,\n",
    "    input_channels=config.input_channels,\n",
    "    J = int(np.log2(config.F)),\n",
    "    latent_dim=config.latent_dim,\n",
    "    encoder_depth = config.encoder_depth,\n",
    "    encoder_kernel_size = config.encoder_kernel_size,\n",
    "    decoder_depth = config.decoder_depth,\n",
    "    lightweight_encode = config.lightweight_encode,\n",
    "    lightweight_decode = config.lightweight_decode,\n",
    ").to(device)\n",
    "model.load_state_dict(state_dict)\n",
    "model.to(torch.bfloat16)\n",
    "model.eval();"
   ]
  },
  {
   "cell_type": "code",
   "execution_count": 3,
   "id": "eea68b9d-1e5a-432f-af4a-8ad4447fcf3d",
   "metadata": {},
   "outputs": [],
   "source": [
    "librispeech_dummy = datasets.load_dataset(\"hf-internal-testing/librispeech_asr_dummy\", \"clean\", split=\"validation\").cast_column('audio',datasets.Audio(decode=False))"
   ]
  },
  {
   "cell_type": "code",
   "execution_count": 4,
   "id": "8024e4dc-ba66-4c7c-a543-642a0e45c33c",
   "metadata": {},
   "outputs": [],
   "source": [
    "def pad(audio, p=2**16):\n",
    "    B,C,L = audio.shape\n",
    "    padding_size = (p - (L % p)) % p\n",
    "    if padding_size > 0:\n",
    "        audio = torch.nn.functional.pad(audio, (0, padding_size), mode='constant', value=0)\n",
    "    return audio"
   ]
  },
  {
   "cell_type": "code",
   "execution_count": 5,
   "id": "0ef9b3c8-a66c-4981-a215-29d2e69b1572",
   "metadata": {},
   "outputs": [],
   "source": [
    "sample = librispeech_dummy[0]\n",
    "with torch.no_grad():\n",
    "    x, fs = torchaudio.load(sample['audio']['bytes'],normalize=False)\n",
    "    x = x.to(torch.float)\n",
    "    x = x - x.mean()\n",
    "    max_abs = x.abs().max()\n",
    "    x = x / (max_abs + 1e-8)\n",
    "    x = x/2\n",
    "    L = x.shape[-1]\n",
    "\n",
    "    t0 = time.time()\n",
    "    x_padded = pad(x.unsqueeze(0), 2**16).to(device).to(torch.bfloat16)\n",
    "    z = model.quantize.compand(model.encode(x_padded)).round().cpu()\n",
    "    img_list = latent_to_pil(\n",
    "        einops.rearrange(z,'b c (h w) -> c b h w', h=16),\n",
    "        n_bits=16,\n",
    "        C=1\n",
    "    )\n",
    "    buff_list = []\n",
    "    for img in img_list:\n",
    "        buff_list.append(io.BytesIO())\n",
    "        img.save(buff_list[-1], format='TIFF', compression='tiff_adobe_deflate')\n",
    "    encode_time = time.time() - t0\n",
    "\n",
    "    CR = 2*x.numel()/sum(len(b.getbuffer()) for b in buff_list)\n",
    "    \n",
    "    latent_decoded = pil_to_latent([PIL.Image.open(b) for b in buff_list], N=1, n_bits=8, C=1)\n",
    "    latent_decoded = einops.rearrange(latent_decoded, 'c b h w -> b c (h w)')\n",
    "    x_hat = model.decode(latent_decoded.to(device).to(torch.bfloat16))\n",
    "    x_hat = x_hat.clamp(-1,1)\n",
    "    decode_time = time.time() - t0\n",
    "    x_hat = x_hat.to(\"cpu\").to(torch.float)\n",
    "    x_hat = CenterCrop((1,x.shape[1]))(x_hat)[0]\n",
    "    mse = torch.nn.functional.mse_loss(x,x_hat)\n",
    "    PSNR = -10*mse.log10().item() + 6.02"
   ]
  }
 ],
 "metadata": {
  "kernelspec": {
   "display_name": "Python 3.11",
   "language": "python",
   "name": "python3.11"
  },
  "language_info": {
   "codemirror_mode": {
    "name": "ipython",
    "version": 3
   },
   "file_extension": ".py",
   "mimetype": "text/x-python",
   "name": "python",
   "nbconvert_exporter": "python",
   "pygments_lexer": "ipython3",
   "version": "3.11.0rc1"
  }
 },
 "nbformat": 4,
 "nbformat_minor": 5
}
