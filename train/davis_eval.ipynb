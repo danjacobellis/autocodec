{
 "cells": [
  {
   "cell_type": "code",
   "execution_count": 1,
   "id": "2b138243-5dd9-4ac0-8ea1-5461bcb85e64",
   "metadata": {},
   "outputs": [
    {
     "name": "stdout",
     "output_type": "stream",
     "text": [
      "env: CUDA_VISIBLE_DEVICES=MIG-768d9c1d-110f-52e2-b0a2-3252f78280f8\n"
     ]
    }
   ],
   "source": [
    "%env CUDA_VISIBLE_DEVICES=MIG-768d9c1d-110f-52e2-b0a2-3252f78280f8"
   ]
  },
  {
   "cell_type": "code",
   "execution_count": 2,
   "id": "31802a5a-cddf-4ebd-9d87-2aca01836585",
   "metadata": {},
   "outputs": [],
   "source": [
    "import io\n",
    "import torch\n",
    "import torch.nn as nn\n",
    "import PIL.Image\n",
    "import einops\n",
    "import matplotlib.pyplot as plt\n",
    "import numpy as np\n",
    "import datasets\n",
    "import math\n",
    "import random\n",
    "from timm.optim import Mars\n",
    "from types import SimpleNamespace\n",
    "from IPython.display import HTML\n",
    "from types import SimpleNamespace\n",
    "from fastprogress import progress_bar, master_bar\n",
    "from torchvision.transforms.v2 import CenterCrop, RandomCrop\n",
    "from torchvision.transforms.v2.functional import pil_to_tensor, to_pil_image\n",
    "from decord import VideoReader\n",
    "from autocodec.codec import AutoCodecND, latent_to_pil, pil_to_latent"
   ]
  },
  {
   "cell_type": "code",
   "execution_count": 3,
   "id": "550eece5-fccd-4fba-ba81-f81f73a3fd44",
   "metadata": {},
   "outputs": [],
   "source": [
    "device = \"cuda\"\n",
    "dataset = datasets.load_dataset(\"danjacobellis/davis\").cast_column('video',datasets.Video()).with_format(\"torch\")"
   ]
  },
  {
   "cell_type": "code",
   "execution_count": 4,
   "id": "212dc070-e81c-46ae-a394-b476d4010a08",
   "metadata": {},
   "outputs": [],
   "source": [
    "checkpoint = torch.load('../../hf/dance/video_f16c192.pth', map_location=\"cpu\",weights_only=False)\n",
    "config = checkpoint['config']\n",
    "state_dict = checkpoint['state_dict']\n",
    "model = AutoCodecND(\n",
    "    dim=3,\n",
    "    input_channels=config.input_channels,\n",
    "    J = int(np.log2(config.F)),\n",
    "    latent_dim=config.latent_dim,\n",
    "    encoder_depth = config.encoder_depth,\n",
    "    encoder_kernel_size = config.encoder_kernel_size,\n",
    "    decoder_depth = config.decoder_depth,\n",
    "    lightweight_encode = config.lightweight_encode,\n",
    "    lightweight_decode = config.lightweight_decode,\n",
    ").to(device)\n",
    "model.load_state_dict(state_dict)\n",
    "model.eval();"
   ]
  },
  {
   "cell_type": "code",
   "execution_count": 5,
   "id": "89036aad-adbc-41f1-88cc-045bf9aa2296",
   "metadata": {},
   "outputs": [],
   "source": [
    "def pad3d(x,p=16):\n",
    "    b, c, f, h, w = x.shape\n",
    "    t = math.ceil(f / p) * p\n",
    "    fp1 = (t - f) // 2\n",
    "    fp2 = (t - f) - fp1\n",
    "    t = math.ceil(h / p) * p\n",
    "    hp1 = (t - h) // 2\n",
    "    hp2 = (t - h) - hp1\n",
    "    t = math.ceil(w / p) * p\n",
    "    wp1 = (t - w) // 2\n",
    "    wp2 = (t - w) - wp1\n",
    "    return torch.nn.functional.pad(x, pad=(wp1, wp2, hp1, hp2, fp1, fp2), mode=\"reflect\")"
   ]
  },
  {
   "cell_type": "code",
   "execution_count": 26,
   "id": "d7c62b49-b7c0-48e4-9877-b82930500339",
   "metadata": {},
   "outputs": [],
   "source": [
    "μ1 = []\n",
    "μ2 = []\n",
    "for i_video in range(dataset['train'].num_rows):\n",
    "    sample = dataset['train'][i_video]\n",
    "    video = sample['video']\n",
    "    len_video = len(video)\n",
    "    x1080 = video.get_batch(range(len_video))\n",
    "    x1080 = einops.rearrange(x1080,'f h w c -> c f h w')\n",
    "    x = []\n",
    "    for i_frame in range(x1080.shape[1]):\n",
    "        frame = x1080[:,i_frame]\n",
    "        x.append(pil_to_tensor(to_pil_image(frame).resize((1920,1080))).unsqueeze(1))\n",
    "    x = torch.cat(x,dim=1).unsqueeze(0)\n",
    "    x = x/127.5 - 1.0\n",
    "    x = x.to(device)\n",
    "    x = pad3d(x)\n",
    "    with torch.no_grad():\n",
    "        z = model.encode(x)\n",
    "        latent = model.quantize.compand(z).round()\n",
    "        x_hat = model.decode(latent)\n",
    "    \n",
    "    x_orig_01 = x / 2 + 0.5\n",
    "    x_hat_01 = x_hat / 2 + 0.5\n",
    "    \n",
    "    PSNR = []\n",
    "    for i_frame in range(x_orig_01.shape[2]): \n",
    "        mse = torch.nn.functional.mse_loss(x_orig_01[0,:,i_frame], x_hat_01[0,:,i_frame])\n",
    "        PSNR.append(-10 * mse.log10().item())\n",
    "    μ1.append(np.mean(PSNR))\n",
    "    μ2.append(np.median(PSNR))"
   ]
  },
  {
   "cell_type": "code",
   "execution_count": 32,
   "id": "c93b83b7-ef65-46a8-ad52-b3cc1099c335",
   "metadata": {},
   "outputs": [
    {
     "data": {
      "text/plain": [
       "[21.114910158018272,\n",
       " 19.337439641356468,\n",
       " 14.9209657125175,\n",
       " 21.422485820949078,\n",
       " 19.945751443505287,\n",
       " 20.768153741955757,\n",
       " 20.00264200071494,\n",
       " 21.006036341190338,\n",
       " 20.813954931994278,\n",
       " 19.712241530418396,\n",
       " 19.47209010521571,\n",
       " 19.115092754364014,\n",
       " 2.981747896895589,\n",
       " 20.44445414841175,\n",
       " 21.354029265542824,\n",
       " 13.690210422500968,\n",
       " 22.556329394380253,\n",
       " 21.03960062776293,\n",
       " 13.083325643092394,\n",
       " 15.48715315759182,\n",
       " 21.093660195668537,\n",
       " 13.862666301429272,\n",
       " 19.59782089293003,\n",
       " -22.332300543785095,\n",
       " 21.81010256210963,\n",
       " 17.57932821288705,\n",
       " 20.246581315994263,\n",
       " 21.70135222375393,\n",
       " 13.986740885302424,\n",
       " 13.656784277409315,\n",
       " 15.5303986184299,\n",
       " 23.635407785574596,\n",
       " 18.259990513324738,\n",
       " 18.728572130203247,\n",
       " 21.03222280740738,\n",
       " 18.79993836581707,\n",
       " 18.380613461136818,\n",
       " 21.037374526262283,\n",
       " 13.561257682740688,\n",
       " 15.614342913031578,\n",
       " 23.334933047493298,\n",
       " 3.7454615612902367,\n",
       " 20.37519244849682,\n",
       " 14.269278943538666,\n",
       " 18.158433467149734,\n",
       " 24.829944925648824,\n",
       " 2.498413413607826,\n",
       " 19.530638843774796,\n",
       " 16.641891058534384,\n",
       " 20.083095759153366,\n",
       " 13.65253709256649,\n",
       " 14.497934095561504,\n",
       " 20.029373675584793,\n",
       " 20.4057569950819,\n",
       " 17.877158388495445,\n",
       " 19.627920761704445,\n",
       " 18.588631436228752,\n",
       " 20.222539622336626,\n",
       " 5.752586451514314,\n",
       " 3.19499653725264,\n",
       " 3.4256795114439833,\n",
       " 20.611974969506264,\n",
       " 23.66374197602272,\n",
       " 22.415237607700483,\n",
       " 23.50989457964897,\n",
       " 6.989959521840016,\n",
       " 8.445230047218502,\n",
       " 21.69663759569327,\n",
       " 2.9915352409443585,\n",
       " 18.793077006936073,\n",
       " 4.134209553400676,\n",
       " 21.182217349608738,\n",
       " 20.112601101398468,\n",
       " 16.673445761203766,\n",
       " 7.198519824693601,\n",
       " 17.864223569631577,\n",
       " 18.355770245194435,\n",
       " 23.332009336778096,\n",
       " 3.756454327570585,\n",
       " 23.292561421791714,\n",
       " 17.358541935682297,\n",
       " 13.542834166437387,\n",
       " 17.5791054405272,\n",
       " 20.79768458008766,\n",
       " 21.47171212732792,\n",
       " 19.311349883675575,\n",
       " 14.432094488292933,\n",
       " 17.327536925673485,\n",
       " 18.756621956825256,\n",
       " 18.760587945580482]"
      ]
     },
     "execution_count": 32,
     "metadata": {},
     "output_type": "execute_result"
    }
   ],
   "source": [
    "μ1"
   ]
  }
 ],
 "metadata": {
  "kernelspec": {
   "display_name": "Python 3 (ipykernel)",
   "language": "python",
   "name": "python3"
  },
  "language_info": {
   "codemirror_mode": {
    "name": "ipython",
    "version": 3
   },
   "file_extension": ".py",
   "mimetype": "text/x-python",
   "name": "python",
   "nbconvert_exporter": "python",
   "pygments_lexer": "ipython3",
   "version": "3.10.12"
  }
 },
 "nbformat": 4,
 "nbformat_minor": 5
}
