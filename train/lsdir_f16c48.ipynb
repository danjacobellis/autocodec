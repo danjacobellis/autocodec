{
 "cells": [
  {
   "cell_type": "code",
   "execution_count": 1,
   "id": "8a76ccd6-9d21-411a-9bc8-68511956a910",
   "metadata": {},
   "outputs": [
    {
     "name": "stdout",
     "output_type": "stream",
     "text": [
      "env: CUDA_VISIBLE_DEVICES=MIG-768d9c1d-110f-52e2-b0a2-3252f78280f8\n"
     ]
    }
   ],
   "source": [
    "%env CUDA_VISIBLE_DEVICES=MIG-768d9c1d-110f-52e2-b0a2-3252f78280f8"
   ]
  },
  {
   "cell_type": "code",
   "execution_count": 2,
   "id": "e3510095-2530-47e4-9be4-f7195bdc9d7c",
   "metadata": {},
   "outputs": [],
   "source": [
    "device=\"cuda:0\"\n",
    "import io\n",
    "import torch\n",
    "import torch.nn as nn\n",
    "import PIL.Image\n",
    "import einops\n",
    "import matplotlib.pyplot as plt\n",
    "import numpy as np\n",
    "import datasets\n",
    "import math\n",
    "from IPython.display import HTML\n",
    "from types import SimpleNamespace\n",
    "from timm.optim import Mars\n",
    "from fastprogress import progress_bar, master_bar\n",
    "from torchvision.transforms.v2 import CenterCrop, RandomCrop, Resize\n",
    "from torchvision.transforms.v2.functional import to_pil_image, pil_to_tensor\n",
    "from autocodec.codec import AutoCodecND, latent_to_pil, pil_to_latent"
   ]
  },
  {
   "cell_type": "code",
   "execution_count": 3,
   "id": "90e573a2-13de-47a7-9f49-90d34843d9b6",
   "metadata": {},
   "outputs": [
    {
     "data": {
      "application/vnd.jupyter.widget-view+json": {
       "model_id": "039b47ef53c34d71a4642dcc2886c9b7",
       "version_major": 2,
       "version_minor": 0
      },
      "text/plain": [
       "Resolving data files:   0%|          | 0/195 [00:00<?, ?it/s]"
      ]
     },
     "metadata": {},
     "output_type": "display_data"
    },
    {
     "data": {
      "application/vnd.jupyter.widget-view+json": {
       "model_id": "e4aa8e988fd0485b897a0233ed309caf",
       "version_major": 2,
       "version_minor": 0
      },
      "text/plain": [
       "Resolving data files:   0%|          | 0/195 [00:00<?, ?it/s]"
      ]
     },
     "metadata": {},
     "output_type": "display_data"
    },
    {
     "data": {
      "application/vnd.jupyter.widget-view+json": {
       "model_id": "48b2ab92b9e8468894ebf2ec45cf1ce4",
       "version_major": 2,
       "version_minor": 0
      },
      "text/plain": [
       "Loading dataset shards:   0%|          | 0/178 [00:00<?, ?it/s]"
      ]
     },
     "metadata": {},
     "output_type": "display_data"
    }
   ],
   "source": [
    "# dataset_unfiltered = datasets.load_dataset(\"timm/imagenet-1k-wds\")\n",
    "# dataset_size_filtered = dataset_unfiltered.filter(lambda s : s['jpg'].mode == 'RGB' and s['jpg'].width>=240 and s['jpg'].height>=240)\n",
    "# dataset_no_decode = dataset_size_filtered.cast_column('jpg',datasets.Image(decode=False))\n",
    "# dataset_quality_filtered = dataset_no_decode.filter(lambda s: len(s['jpg']['bytes'])>20000)\n",
    "# dataset = dataset_quality_filtered.cast_column('jpg',datasets.Image(decode=True))\n",
    "dataset = datasets.load_dataset(\"danjacobellis/LSDIR\")"
   ]
  },
  {
   "cell_type": "code",
   "execution_count": 4,
   "id": "31802a5a-cddf-4ebd-9d87-2aca01836585",
   "metadata": {},
   "outputs": [
    {
     "name": "stdout",
     "output_type": "stream",
     "text": [
      "(start res, end_res) (128, 480)\n"
     ]
    }
   ],
   "source": [
    "config = SimpleNamespace()\n",
    "config.F = 16\n",
    "config.latent_dim = 48;\n",
    "config.input_channels = 3\n",
    "config.encoder_depth = 4\n",
    "config.encoder_kernel_size = 1\n",
    "config.decoder_depth = 8\n",
    "config.lightweight_encode = True\n",
    "config.lightweight_decode = False\n",
    "config.freeze_encoder_after = 0.7\n",
    "config.λ = 3e-2\n",
    "config.lr_pow = 6\n",
    "config.epochs = 100\n",
    "config.progressive_sizes = [32*int(s) for s in 2**(np.linspace(2,3.95,config.epochs))];\n",
    "config.batch_size = 16\n",
    "config.max_lr = (64/config.batch_size)*1e-3\n",
    "config.min_lr = config.max_lr / 1e3\n",
    "config.num_workers = 32\n",
    "config.total_steps = config.epochs * (dataset['train'].num_rows // config.batch_size)\n",
    "config.checkpoint = False\n",
    "print(f\"(start res, end_res) {(config.progressive_sizes[0], config.progressive_sizes[-1])}\")"
   ]
  },
  {
   "cell_type": "code",
   "execution_count": 5,
   "id": "efcd33e0-b5ba-46a5-a126-b7aa9b80178f",
   "metadata": {},
   "outputs": [
    {
     "name": "stdout",
     "output_type": "stream",
     "text": [
      "76.581552 M parameters\n"
     ]
    }
   ],
   "source": [
    "model = AutoCodecND(\n",
    "    dim=2,\n",
    "    input_channels=config.input_channels,\n",
    "    J = int(np.log2(config.F)),\n",
    "    latent_dim=config.latent_dim,\n",
    "    encoder_depth = config.encoder_depth,\n",
    "    encoder_kernel_size = config.encoder_kernel_size,\n",
    "    decoder_depth = config.decoder_depth,\n",
    "    lightweight_encode = config.lightweight_encode,\n",
    "    lightweight_decode = config.lightweight_decode,\n",
    ").to(device)\n",
    "\n",
    "if config.checkpoint:\n",
    "    checkpoint = torch.load(config.checkpoint,weights_only=False)\n",
    "    model.load_state_dict(checkpoint['state_dict'])\n",
    "\n",
    "print(f\"{sum(p.numel() for p in model.parameters())/1e6} M parameters\")\n",
    "\n",
    "optimizer = Mars(model.parameters(), lr=1.0, caution=True)\n",
    "\n",
    "def rc_sched(i_step, config):\n",
    "    t = i_step / config.total_steps\n",
    "    return (config.max_lr - config.min_lr) * (1 - ((np.cos(np.pi*t))**(2*config.lr_pow))) + config.min_lr\n",
    "\n",
    "schedule = torch.optim.lr_scheduler.LambdaLR(\n",
    "    optimizer,\n",
    "    lr_lambda=lambda i_step: rc_sched(i_step, config)\n",
    ")"
   ]
  },
  {
   "cell_type": "code",
   "execution_count": 6,
   "id": "c923fce2-de6a-4fb2-844f-ac0a5913cb77",
   "metadata": {},
   "outputs": [],
   "source": [
    "def get_epoch_size(epoch):\n",
    "    idx = min(epoch, len(config.progressive_sizes)-1)\n",
    "    return config.progressive_sizes[idx]\n",
    "\n",
    "def collate_fn(batch, epoch):\n",
    "    img_size = get_epoch_size(epoch)\n",
    "    tensor_list = []\n",
    "    for sample in batch:\n",
    "        processed = pil_to_tensor(RandomCrop(img_size)(Resize(img_size)(sample['image']))).unsqueeze(0)\n",
    "        tensor_list.append(processed)\n",
    "    return torch.cat(tensor_list, dim=0).to(torch.float) / 127.5 - 1.0"
   ]
  },
  {
   "cell_type": "code",
   "execution_count": null,
   "id": "1fd35e91-63fe-4268-aac3-d1bf00b1c085",
   "metadata": {},
   "outputs": [
    {
     "data": {
      "text/html": [
       "\n",
       "<style>\n",
       "    /* Turns off some styling */\n",
       "    progress {\n",
       "        /* gets rid of default border in Firefox and Opera. */\n",
       "        border: none;\n",
       "        /* Needs to be in here for Safari polyfill so background images work as expected. */\n",
       "        background-size: auto;\n",
       "    }\n",
       "    progress:not([value]), progress:not([value])::-webkit-progress-bar {\n",
       "        background: repeating-linear-gradient(45deg, #7e7e7e, #7e7e7e 10px, #5c5c5c 10px, #5c5c5c 20px);\n",
       "    }\n",
       "    .progress-bar-interrupted, .progress-bar-interrupted::-webkit-progress-bar {\n",
       "        background: #F44336;\n",
       "    }\n",
       "</style>\n"
      ],
      "text/plain": [
       "<IPython.core.display.HTML object>"
      ]
     },
     "metadata": {},
     "output_type": "display_data"
    },
    {
     "data": {
      "text/html": [
       "\n",
       "    <div>\n",
       "      <progress value='24' class='' max='100' style='width:300px; height:20px; vertical-align: middle;'></progress>\n",
       "      24.00% [24/100 2:54:50&lt;9:13:39]\n",
       "    </div>\n",
       "    \n",
       "\n",
       "\n",
       "    <div>\n",
       "      <progress value='2400' class='' max='5311' style='width:300px; height:20px; vertical-align: middle;'></progress>\n",
       "      45.19% [2400/5311 03:45&lt;04:32 PSNR: 27.7, R: 1.9, LR: 0.0039]\n",
       "    </div>\n",
       "    "
      ],
      "text/plain": [
       "<IPython.core.display.HTML object>"
      ]
     },
     "metadata": {},
     "output_type": "display_data"
    }
   ],
   "source": [
    "learning_rates = [optimizer.param_groups[0]['lr']]\n",
    "mb = master_bar(range(config.epochs))\n",
    "losses = []\n",
    "rate_losses = []\n",
    "\n",
    "global_step = 0\n",
    "model.train()\n",
    "for i_epoch in mb:\n",
    "    #-----Train-----\n",
    "    model.train()\n",
    "    dataloader_train = torch.utils.data.DataLoader(\n",
    "            dataset['train'],\n",
    "            batch_size=config.batch_size,\n",
    "            num_workers=config.num_workers,\n",
    "            drop_last=True,\n",
    "            shuffle=True,\n",
    "            collate_fn=lambda batch: collate_fn(batch, i_epoch)\n",
    "        )\n",
    "    pb = progress_bar(dataloader_train, parent=mb)\n",
    "    for i_batch, x in enumerate(pb):\n",
    "        x = x.to(device)\n",
    "        if i_epoch/config.epochs <= config.freeze_encoder_after :\n",
    "            # Soft quantization with additive noise\n",
    "            x_hat, rate = model(x)\n",
    "        else:\n",
    "            # Hard quantization\n",
    "            with torch.no_grad():\n",
    "                z = model.quantize.compand(model.encode(x))\n",
    "                z_quant = z.round()\n",
    "            rate = z.std().log2()              \n",
    "            x_hat = model.decode(z_quant)\n",
    "\n",
    "        # Loss and optimizer\n",
    "        mse_loss = torch.nn.functional.mse_loss(x, x_hat).log10()\n",
    "        losses.append(mse_loss.item())\n",
    "        rate_losses.append(rate.item())\n",
    "        total_loss = mse_loss + config.λ * rate\n",
    "        total_loss.backward()\n",
    "        optimizer.step()\n",
    "        optimizer.zero_grad()\n",
    "        schedule.step()\n",
    "        learning_rates.append(optimizer.param_groups[0]['lr'])\n",
    "        pb.comment = (f\"PSNR: {-10*losses[-1]+6.02:.3g}, R: {rate:.2g}, LR: {learning_rates[-1]:.2g}\")\n",
    "        global_step += 1\n",
    "\n",
    "    torch.save({\n",
    "        'config': config,\n",
    "        'state_dict': model.state_dict()\n",
    "    }, 'checkpoint.pth')"
   ]
  },
  {
   "cell_type": "code",
   "execution_count": 8,
   "id": "082e9000-a698-4d03-a9aa-5663f8512e1d",
   "metadata": {},
   "outputs": [
    {
     "data": {
      "text/html": [
       "\n",
       "    <div>\n",
       "      <progress value='100' class='' max='100' style='width:300px; height:20px; vertical-align: middle;'></progress>\n",
       "      100.00% [100/100 22:32:08&lt;00:00]\n",
       "    </div>\n",
       "    "
      ],
      "text/plain": [
       "<IPython.core.display.HTML object>"
      ]
     },
     "metadata": {},
     "output_type": "display_data"
    },
    {
     "data": {
      "text/html": [
       "\n",
       "    <div>\n",
       "      <progress value='5311' class='' max='5311' style='width:300px; height:20px; vertical-align: middle;'></progress>\n",
       "      100.00% [5311/5311 29:47&lt;00:00 PSNR: 30.7, R: 1.9, LR: 4e-06]\n",
       "    </div>\n",
       "    "
      ],
      "text/plain": [
       "<IPython.core.display.HTML object>"
      ]
     },
     "metadata": {},
     "output_type": "display_data"
    },
    {
     "data": {
      "image/png": "[encoded data removed]",
      "text/plain": [
       "<Figure size 640x480 with 2 Axes>"
      ]
     },
     "metadata": {},
     "output_type": "display_data"
    }
   ],
   "source": [
    "display(HTML(mb.main_bar.progress))\n",
    "display(HTML(pb.progress))\n",
    "fig, ax1 = plt.subplots()\n",
    "ax1.plot(-10*np.array(losses)+6.02)\n",
    "ax1.set_yticks(range(15,36))\n",
    "ax1.set_ylim([15,35])\n",
    "ax1.grid(True)\n",
    "ax1.tick_params(axis='y', labelcolor='blue')\n",
    "ax2 = ax1.twinx()\n",
    "ax2.plot(-10*np.array(rate_losses), color='red', alpha=0.5)\n",
    "ax2.tick_params(axis='y', labelcolor='red')\n",
    "plt.show()"
   ]
  },
  {
   "cell_type": "code",
   "execution_count": 9,
   "id": "5694919d-3605-4c37-a853-1d24dc401774",
   "metadata": {},
   "outputs": [],
   "source": [
    "torch.save({\n",
    "    'config': config,\n",
    "    'state_dict': model.state_dict(),\n",
    "    'opt_state_dict': optimizer.state_dict()\n",
    "}, '../../hf/dance/rgb_f16c48.pth')"
   ]
  }
 ],
 "metadata": {
  "kernelspec": {
   "display_name": "Python 3 (ipykernel)",
   "language": "python",
   "name": "python3"
  },
  "language_info": {
   "codemirror_mode": {
    "name": "ipython",
    "version": 3
   },
   "file_extension": ".py",
   "mimetype": "text/x-python",
   "name": "python",
   "nbconvert_exporter": "python",
   "pygments_lexer": "ipython3",
   "version": "3.10.12"
  }
 },
 "nbformat": 4,
 "nbformat_minor": 5
}
