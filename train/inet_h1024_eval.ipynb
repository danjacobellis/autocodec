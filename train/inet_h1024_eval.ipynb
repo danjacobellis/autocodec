{
 "cells": [
  {
   "cell_type": "code",
   "execution_count": 1,
   "id": "edb7d1ed-cfe7-4a60-a5ef-4e7083205b0e",
   "metadata": {},
   "outputs": [],
   "source": [
    "import io\n",
    "import time\n",
    "import torch\n",
    "import torch.nn as nn\n",
    "import PIL.Image\n",
    "import io\n",
    "import numpy as np\n",
    "import datasets\n",
    "from torchvision.transforms.v2 import Pad, CenterCrop\n",
    "from torchvision.transforms.v2.functional import pil_to_tensor, to_pil_image\n",
    "from types import SimpleNamespace\n",
    "from autocodec.codec import AutoCodecND, latent_to_pil, pil_to_latent\n",
    "from piq import LPIPS, DISTS, SSIMLoss"
   ]
  },
  {
   "cell_type": "code",
   "execution_count": 2,
   "id": "ad55c948-ab26-4834-8213-56ce0f3c6d0e",
   "metadata": {},
   "outputs": [
    {
     "name": "stderr",
     "output_type": "stream",
     "text": [
      "/home/dgj335/.local/lib/python3.10/site-packages/torchvision/models/_utils.py:208: UserWarning: The parameter 'pretrained' is deprecated since 0.13 and may be removed in the future, please use 'weights' instead.\n",
      "  warnings.warn(\n",
      "/home/dgj335/.local/lib/python3.10/site-packages/torchvision/models/_utils.py:223: UserWarning: Arguments other than a weight enum or `None` for 'weights' are deprecated since 0.13 and may be removed in the future. The current behavior is equivalent to passing `weights=VGG16_Weights.IMAGENET1K_V1`. You can also use `weights=VGG16_Weights.DEFAULT` to get the most up-to-date weights.\n",
      "  warnings.warn(msg)\n"
     ]
    }
   ],
   "source": [
    "device = \"cuda\"\n",
    "lpips_loss = LPIPS().to(device)\n",
    "dists_loss = DISTS().to(device)\n",
    "ssim_loss = SSIMLoss().to(device)"
   ]
  },
  {
   "cell_type": "code",
   "execution_count": 3,
   "id": "a5324e50-c936-4374-a382-3029cb398692",
   "metadata": {},
   "outputs": [
    {
     "data": {
      "application/vnd.jupyter.widget-view+json": {
       "model_id": "542612e5ade24b9d9a187a4f8b94fa35",
       "version_major": 2,
       "version_minor": 0
      },
      "text/plain": [
       "Resolving data files:   0%|          | 0/1024 [00:00<?, ?it/s]"
      ]
     },
     "metadata": {},
     "output_type": "display_data"
    },
    {
     "data": {
      "application/vnd.jupyter.widget-view+json": {
       "model_id": "78fc15d9ad464299818f3a764c3e8208",
       "version_major": 2,
       "version_minor": 0
      },
      "text/plain": [
       "Resolving data files:   0%|          | 0/64 [00:00<?, ?it/s]"
      ]
     },
     "metadata": {},
     "output_type": "display_data"
    }
   ],
   "source": [
    "inet = datasets.load_dataset(\"timm/imagenet-1k-wds\",split='validation')"
   ]
  },
  {
   "cell_type": "code",
   "execution_count": 4,
   "id": "96f2bd3e-e30c-4873-bf2d-1cbcb2ca23f5",
   "metadata": {},
   "outputs": [],
   "source": [
    "# checkpoint = torch.load('../../hf/dance/lsdir_ft_rgb_f16c12.pth', map_location=device,weights_only=False)\n",
    "# config = checkpoint['config']\n",
    "# state_dict = checkpoint['state_dict']\n",
    "\n",
    "# model = AutoCodecND(\n",
    "#     dim=2,\n",
    "#     input_channels=config.input_channels,\n",
    "#     J = int(np.log2(config.F)),\n",
    "#     latent_dim=config.latent_dim,\n",
    "#     encoder_depth = config.encoder_depth,\n",
    "#     encoder_kernel_size = config.encoder_kernel_size,\n",
    "#     decoder_depth = config.decoder_depth,\n",
    "#     lightweight_encode = config.lightweight_encode,\n",
    "#     lightweight_decode = config.lightweight_decode,\n",
    "# ).to(device)\n",
    "# model.load_state_dict(state_dict)\n",
    "# model.eval();"
   ]
  },
  {
   "cell_type": "code",
   "execution_count": 5,
   "id": "b06d2d79-fd36-419d-bfc8-96579af4aae7",
   "metadata": {},
   "outputs": [],
   "source": [
    "# def compress_and_evaluate(sample):\n",
    "#     img = sample['jpg'].convert(\"RGB\")\n",
    "#     aspect = img.width/img.height\n",
    "#     img = img.resize((int(16*(1024*aspect//16)),1024),resample=PIL.Image.Resampling.LANCZOS)\n",
    "#     x_orig = pil_to_tensor(img).to(device).unsqueeze(0).to(torch.float) / 127.5 - 1.0\n",
    "#     orig_dim = x_orig.numel() \n",
    "\n",
    "#     t0 = time.time()\n",
    "#     with torch.no_grad():\n",
    "#         z = model.encode(x_orig)\n",
    "#         latent = model.quantize.compand(z).round()\n",
    "#     webp = latent_to_pil(latent.cpu(), n_bits=8, C=3)\n",
    "#     buff = io.BytesIO()\n",
    "#     webp[0].save(buff, format='WEBP', lossless=True)\n",
    "#     encode_time = time.time() - t0\n",
    "#     size_bytes = len(buff.getbuffer())\n",
    "#     t0 = time.time()\n",
    "#     latent_decoded = pil_to_latent(webp, N=config.latent_dim, n_bits=8, C=3).to(device)\n",
    "#     with torch.no_grad():\n",
    "#         x_hat = model.decode(latent_decoded).clamp(-1,1)\n",
    "#     decode_time = time.time() - t0\n",
    "\n",
    "#     x_orig_01 = x_orig / 2 + 0.5\n",
    "#     x_hat_01 = x_hat / 2 + 0.5\n",
    "\n",
    "#     pixels = img.width * img.height\n",
    "#     bpp = 8 * size_bytes / pixels\n",
    "#     mse = torch.nn.functional.mse_loss(x_orig_01[0], x_hat_01[0])\n",
    "#     PSNR = -10 * mse.log10().item()\n",
    "#     LPIPS_dB = -10 * np.log10(lpips_loss(x_orig_01.to(device), x_hat_01.to(device)).item())\n",
    "#     DISTS_dB = -10 * np.log10(dists_loss(x_orig_01.to(device), x_hat_01.to(device)).item())\n",
    "#     SSIM = 1 - ssim_loss(x_orig_01.to(device), x_hat_01.to(device)).item()\n",
    "\n",
    "#     return {\n",
    "#         'pixels': pixels,\n",
    "#         'bpp': bpp,\n",
    "#         'PSNR': PSNR,\n",
    "#         'LPIPS_dB': LPIPS_dB,\n",
    "#         'DISTS_dB': DISTS_dB,\n",
    "#         'SSIM': SSIM,\n",
    "#         'encode_time': encode_time,\n",
    "#         'decode_time': decode_time,\n",
    "#     }\n",
    "\n",
    "# metrics = [\n",
    "#     'pixels',\n",
    "#     'bpp',\n",
    "#     'PSNR',\n",
    "#     'LPIPS_dB',\n",
    "#     'DISTS_dB',\n",
    "#     'SSIM',\n",
    "#     'encode_time',\n",
    "#     'decode_time',\n",
    "# ]"
   ]
  },
  {
   "cell_type": "code",
   "execution_count": 6,
   "id": "e8699815-dc8e-4f76-bb68-202e339d0c49",
   "metadata": {},
   "outputs": [],
   "source": [
    "def compress_and_evaluate_webp(sample, q):\n",
    "    img = sample['jpg'].convert(\"RGB\")\n",
    "    aspect = img.width/img.height\n",
    "    img = img.resize((int(16*(1024*aspect//16)),1024),resample=PIL.Image.Resampling.LANCZOS)\n",
    "    x_orig = pil_to_tensor(img).to(device).unsqueeze(0).to(torch.float) / 127.5 - 1.0\n",
    "    orig_dim = x_orig.numel() \n",
    "\n",
    "    t0 = time.time()\n",
    "    buff = io.BytesIO()\n",
    "    img.save(buff, format='WEBP', quality=q)\n",
    "    encode_time = time.time() - t0\n",
    "    size_bytes = len(buff.getbuffer())\n",
    "    t0 = time.time()\n",
    "    webp = PIL.Image.open(buff)\n",
    "    decode_time = time.time() - t0\n",
    "    x_hat = pil_to_tensor(webp).to(device).unsqueeze(0).to(torch.float) / 127.5 - 1.0\n",
    "\n",
    "    x_orig_01 = x_orig / 2 + 0.5\n",
    "    x_hat_01 = x_hat / 2 + 0.5\n",
    "\n",
    "    pixels = img.width * img.height\n",
    "    bpp = 8 * size_bytes / pixels\n",
    "    mse = torch.nn.functional.mse_loss(x_orig_01[0], x_hat_01[0])\n",
    "    PSNR = -10 * mse.log10().item()\n",
    "    LPIPS_dB = -10 * np.log10(lpips_loss(x_orig_01.to(device), x_hat_01.to(device)).item())\n",
    "    DISTS_dB = -10 * np.log10(dists_loss(x_orig_01.to(device), x_hat_01.to(device)).item())\n",
    "    SSIM = 1 - ssim_loss(x_orig_01.to(device), x_hat_01.to(device)).item()\n",
    "\n",
    "    return {\n",
    "        'pixels': pixels,\n",
    "        'bpp': bpp,\n",
    "        'PSNR': PSNR,\n",
    "        'LPIPS_dB': LPIPS_dB,\n",
    "        'DISTS_dB': DISTS_dB,\n",
    "        'SSIM': SSIM,\n",
    "        'encode_time': encode_time,\n",
    "        'decode_time': decode_time,\n",
    "    }\n",
    "\n",
    "metrics = [\n",
    "    'pixels',\n",
    "    'bpp',\n",
    "    'PSNR',\n",
    "    'LPIPS_dB',\n",
    "    'DISTS_dB',\n",
    "    'SSIM',\n",
    "    'encode_time',\n",
    "    'decode_time',\n",
    "]"
   ]
  },
  {
   "cell_type": "markdown",
   "id": "c9d2a1b2-13f6-47a9-87cf-ed4cb27d88c4",
   "metadata": {},
   "source": [
    "webp q=0"
   ]
  },
  {
   "cell_type": "code",
   "execution_count": 10,
   "id": "5671d50f-46d7-4676-8d5b-5cc6dae22881",
   "metadata": {},
   "outputs": [
    {
     "data": {
      "application/vnd.jupyter.widget-view+json": {
       "model_id": "e3f785c830f441ecb5e2fb6b6728fdea",
       "version_major": 2,
       "version_minor": 0
      },
      "text/plain": [
       "Map:   0%|          | 0/944 [00:00<?, ? examples/s]"
      ]
     },
     "metadata": {},
     "output_type": "display_data"
    },
    {
     "name": "stdout",
     "output_type": "stream",
     "text": [
      "mean\n",
      "---\n",
      "pixels: 1247960.9491525423\n",
      "bpp: 0.09295122017843688\n",
      "PSNR: 28.334981180348638\n",
      "LPIPS_dB: 3.782436879724428\n",
      "DISTS_dB: 8.385171812353674\n",
      "SSIM: 0.8658390640581058\n",
      "encode_time: 0.03966331481933594\n",
      "decode_time: 0.0003862267328520953\n",
      "31.6725413535132 MP/sec\n"
     ]
    }
   ],
   "source": [
    "results_dataset = inet.select(range(0,50000,53)).map(lambda s: compress_and_evaluate_webp(s,0))\n",
    "\n",
    "print(\"mean\\n---\")\n",
    "for metric in metrics:\n",
    "    μ = np.mean(results_dataset[metric])\n",
    "    print(f\"{metric}: {μ}\")\n",
    "print(f\"{np.mean(np.array(results_dataset['pixels'])/1e6/np.array(results_dataset['encode_time']))} MP/sec\")"
   ]
  },
  {
   "cell_type": "markdown",
   "id": "73cf605b-887d-427d-b45f-7eec422a81b6",
   "metadata": {},
   "source": [
    "webp q=5"
   ]
  },
  {
   "cell_type": "code",
   "execution_count": 8,
   "id": "516a9ed9-75da-4065-b814-7a46441914b3",
   "metadata": {},
   "outputs": [
    {
     "data": {
      "application/vnd.jupyter.widget-view+json": {
       "model_id": "1836a30338644e1585a4f03aad025953",
       "version_major": 2,
       "version_minor": 0
      },
      "text/plain": [
       "Map:   0%|          | 0/944 [00:00<?, ? examples/s]"
      ]
     },
     "metadata": {},
     "output_type": "display_data"
    },
    {
     "name": "stdout",
     "output_type": "stream",
     "text": [
      "mean\n",
      "---\n",
      "pixels: 1247960.9491525423\n",
      "bpp: 0.16808051894428486\n",
      "PSNR: 30.94224475197873\n",
      "LPIPS_dB: 4.916882737095818\n",
      "DISTS_dB: 10.549339892410623\n",
      "SSIM: 0.9287441000973774\n",
      "encode_time: 0.044705461394988884\n",
      "decode_time: 0.0003886356697244159\n",
      "28.205249284297587 MP/sec\n"
     ]
    }
   ],
   "source": [
    "results_dataset = inet.select(range(0,50000,53)).map(lambda s: compress_and_evaluate_webp(s,5))\n",
    "\n",
    "print(\"mean\\n---\")\n",
    "for metric in metrics:\n",
    "    μ = np.mean(results_dataset[metric])\n",
    "    print(f\"{metric}: {μ}\")\n",
    "print(f\"{np.mean(np.array(results_dataset['pixels'])/1e6/np.array(results_dataset['encode_time']))} MP/sec\")"
   ]
  },
  {
   "cell_type": "markdown",
   "id": "c28f15b7-0e5d-4459-b7c3-ded8c4383e3a",
   "metadata": {},
   "source": [
    "webp q=10"
   ]
  },
  {
   "cell_type": "code",
   "execution_count": 7,
   "id": "4f03ea51-5708-4757-a240-5ea455463fcb",
   "metadata": {},
   "outputs": [
    {
     "data": {
      "application/vnd.jupyter.widget-view+json": {
       "model_id": "95961f8bea684c2ca6506e5936f31abe",
       "version_major": 2,
       "version_minor": 0
      },
      "text/plain": [
       "Map:   0%|          | 0/944 [00:00<?, ? examples/s]"
      ]
     },
     "metadata": {},
     "output_type": "display_data"
    },
    {
     "name": "stdout",
     "output_type": "stream",
     "text": [
      "mean\n",
      "---\n",
      "pixels: 1247960.9491525423\n",
      "bpp: 0.2012685052924489\n",
      "PSNR: 31.77052897164377\n",
      "LPIPS_dB: 5.247660671771126\n",
      "DISTS_dB: 11.179777161462045\n",
      "SSIM: 0.9404032268261505\n",
      "encode_time: 0.04622692198066388\n",
      "decode_time: 0.00030636888439372433\n",
      "27.28831767009428 MP/sec\n"
     ]
    }
   ],
   "source": [
    "results_dataset = inet.select(range(0,50000,53)).map(lambda s: compress_and_evaluate_webp(s,10))\n",
    "\n",
    "print(\"mean\\n---\")\n",
    "for metric in metrics:\n",
    "    μ = np.mean(results_dataset[metric])\n",
    "    print(f\"{metric}: {μ}\")\n",
    "print(f\"{np.mean(np.array(results_dataset['pixels'])/1e6/np.array(results_dataset['encode_time']))} MP/sec\")"
   ]
  },
  {
   "cell_type": "markdown",
   "id": "2811fb5a-ab3b-4b10-94b8-071ecf3f27f2",
   "metadata": {},
   "source": [
    "webp q=20"
   ]
  },
  {
   "cell_type": "code",
   "execution_count": 9,
   "id": "fe16244e-e8c1-4610-97f1-c4c75136e208",
   "metadata": {},
   "outputs": [
    {
     "data": {
      "application/vnd.jupyter.widget-view+json": {
       "model_id": "84057ddfb7a5402ba435b60e9976cb49",
       "version_major": 2,
       "version_minor": 0
      },
      "text/plain": [
       "Map:   0%|          | 0/944 [00:00<?, ? examples/s]"
      ]
     },
     "metadata": {},
     "output_type": "display_data"
    },
    {
     "name": "stdout",
     "output_type": "stream",
     "text": [
      "mean\n",
      "---\n",
      "pixels: 1247960.9491525423\n",
      "bpp: 0.25711650084926757\n",
      "PSNR: 32.92799842307123\n",
      "LPIPS_dB: 5.752427074729006\n",
      "DISTS_dB: 12.105877406208801\n",
      "SSIM: 0.9540889172862141\n",
      "encode_time: 0.048235851576772786\n",
      "decode_time: 0.00039599911641266387\n",
      "26.191032012979594 MP/sec\n"
     ]
    }
   ],
   "source": [
    "results_dataset = inet.select(range(0,50000,53)).map(lambda s: compress_and_evaluate_webp(s,20))\n",
    "\n",
    "print(\"mean\\n---\")\n",
    "for metric in metrics:\n",
    "    μ = np.mean(results_dataset[metric])\n",
    "    print(f\"{metric}: {μ}\")\n",
    "print(f\"{np.mean(np.array(results_dataset['pixels'])/1e6/np.array(results_dataset['encode_time']))} MP/sec\")"
   ]
  },
  {
   "cell_type": "markdown",
   "id": "142bcb1e-0f39-4f6e-bc8f-63e7868e4fbc",
   "metadata": {},
   "source": [
    "webp q=50"
   ]
  },
  {
   "cell_type": "code",
   "execution_count": 11,
   "id": "ab9b4d8a-4e5c-4c17-8d1e-7295debf0eae",
   "metadata": {},
   "outputs": [
    {
     "data": {
      "application/vnd.jupyter.widget-view+json": {
       "model_id": "f9aa6458391b4d4788c4d3a5e069de30",
       "version_major": 2,
       "version_minor": 0
      },
      "text/plain": [
       "Map:   0%|          | 0/944 [00:00<?, ? examples/s]"
      ]
     },
     "metadata": {},
     "output_type": "display_data"
    },
    {
     "name": "stdout",
     "output_type": "stream",
     "text": [
      "mean\n",
      "---\n",
      "pixels: 1247960.9491525423\n",
      "bpp: 0.4230773113302287\n",
      "PSNR: 35.44099694591458\n",
      "LPIPS_dB: 6.939734946827561\n",
      "DISTS_dB: 14.281323711338276\n",
      "SSIM: 0.9728789905370292\n",
      "encode_time: 0.05272707696688377\n",
      "decode_time: 0.0003973344119928651\n",
      "24.003459940771414 MP/sec\n"
     ]
    }
   ],
   "source": [
    "results_dataset = inet.select(range(0,50000,53)).map(lambda s: compress_and_evaluate_webp(s,50))\n",
    "\n",
    "print(\"mean\\n---\")\n",
    "for metric in metrics:\n",
    "    μ = np.mean(results_dataset[metric])\n",
    "    print(f\"{metric}: {μ}\")\n",
    "print(f\"{np.mean(np.array(results_dataset['pixels'])/1e6/np.array(results_dataset['encode_time']))} MP/sec\")"
   ]
  },
  {
   "cell_type": "markdown",
   "id": "dd3c369a-1ae6-4a7c-9c2d-091442e8699b",
   "metadata": {},
   "source": [
    "webp q=75"
   ]
  },
  {
   "cell_type": "code",
   "execution_count": 12,
   "id": "65889da6-9e58-4d1b-a2fe-59b10c7f7148",
   "metadata": {},
   "outputs": [
    {
     "data": {
      "application/vnd.jupyter.widget-view+json": {
       "model_id": "a615e7015d6747cdaaea63b627ee0db3",
       "version_major": 2,
       "version_minor": 0
      },
      "text/plain": [
       "Map:   0%|          | 0/944 [00:00<?, ? examples/s]"
      ]
     },
     "metadata": {},
     "output_type": "display_data"
    },
    {
     "name": "stdout",
     "output_type": "stream",
     "text": [
      "mean\n",
      "---\n",
      "pixels: 1247960.9491525423\n",
      "bpp: 0.5793115656704492\n",
      "PSNR: 37.07799157853854\n",
      "LPIPS_dB: 7.963087386342984\n",
      "DISTS_dB: 16.063846417206793\n",
      "SSIM: 0.9813222195006023\n",
      "encode_time: 0.0560637886746455\n",
      "decode_time: 0.00039520809205911925\n",
      "22.55939165295544 MP/sec\n"
     ]
    }
   ],
   "source": [
    "results_dataset = inet.select(range(0,50000,53)).map(lambda s: compress_and_evaluate_webp(s,75))\n",
    "\n",
    "print(\"mean\\n---\")\n",
    "for metric in metrics:\n",
    "    μ = np.mean(results_dataset[metric])\n",
    "    print(f\"{metric}: {μ}\")\n",
    "print(f\"{np.mean(np.array(results_dataset['pixels'])/1e6/np.array(results_dataset['encode_time']))} MP/sec\")"
   ]
  },
  {
   "cell_type": "markdown",
   "id": "a3a33cc0-54de-4825-a2af-238ee7afdda1",
   "metadata": {},
   "source": [
    "webp q=85"
   ]
  },
  {
   "cell_type": "code",
   "execution_count": 13,
   "id": "139fa279-6019-4d06-ad08-af3c1dc2648c",
   "metadata": {},
   "outputs": [
    {
     "data": {
      "application/vnd.jupyter.widget-view+json": {
       "model_id": "84ca275445744e4090c4ba3a897566de",
       "version_major": 2,
       "version_minor": 0
      },
      "text/plain": [
       "Map:   0%|          | 0/944 [00:00<?, ? examples/s]"
      ]
     },
     "metadata": {},
     "output_type": "display_data"
    },
    {
     "name": "stdout",
     "output_type": "stream",
     "text": [
      "mean\n",
      "---\n",
      "pixels: 1247960.9491525423\n",
      "bpp: 0.8900880425602385\n",
      "PSNR: 39.481595423767125\n",
      "LPIPS_dB: 9.857538251463039\n",
      "DISTS_dB: 19.39745151739412\n",
      "SSIM: 0.989707756724398\n",
      "encode_time: 0.06217083764278283\n",
      "decode_time: 0.0004185877614102121\n",
      "20.34589394907377 MP/sec\n"
     ]
    }
   ],
   "source": [
    "results_dataset = inet.select(range(0,50000,53)).map(lambda s: compress_and_evaluate_webp(s,85))\n",
    "\n",
    "print(\"mean\\n---\")\n",
    "for metric in metrics:\n",
    "    μ = np.mean(results_dataset[metric])\n",
    "    print(f\"{metric}: {μ}\")\n",
    "print(f\"{np.mean(np.array(results_dataset['pixels'])/1e6/np.array(results_dataset['encode_time']))} MP/sec\")"
   ]
  },
  {
   "cell_type": "markdown",
   "id": "61b4d479-1d3c-4c55-aba0-978e86f7d786",
   "metadata": {},
   "source": [
    "f16c12 lsdir+inet+lsdir"
   ]
  },
  {
   "cell_type": "code",
   "execution_count": 7,
   "id": "2bd0d643-d4e4-4093-94e5-7e325506642d",
   "metadata": {},
   "outputs": [
    {
     "data": {
      "application/vnd.jupyter.widget-view+json": {
       "model_id": "8dc9bbf76a1f4e3fb342d36f41c936a0",
       "version_major": 2,
       "version_minor": 0
      },
      "text/plain": [
       "Map:   0%|          | 0/50000 [00:00<?, ? examples/s]"
      ]
     },
     "metadata": {},
     "output_type": "display_data"
    },
    {
     "name": "stdout",
     "output_type": "stream",
     "text": [
      "mean\n",
      "---\n",
      "pixels: 1233140.44928\n",
      "bpp: 0.14419030833425764\n",
      "PSNR: 31.37415174732208\n",
      "LPIPS_dB: 5.915171539826647\n",
      "DISTS_dB: 11.889201100445513\n",
      "SSIM: 0.9438236615478992\n",
      "encode_time: 0.01610152611732483\n",
      "decode_time: 0.008204229717254638\n",
      "79.54539609851899 MP/sec\n"
     ]
    }
   ],
   "source": [
    "results_dataset = inet.map(compress_and_evaluate)\n",
    "\n",
    "print(\"mean\\n---\")\n",
    "for metric in metrics:\n",
    "    μ = np.mean(results_dataset[metric])\n",
    "    print(f\"{metric}: {μ}\")\n",
    "print(f\"{np.mean(np.array(results_dataset['pixels'])/1e6/np.array(results_dataset['encode_time']))} MP/sec\")"
   ]
  },
  {
   "cell_type": "code",
   "execution_count": 14,
   "id": "bb2743e6-bac2-47b8-8158-2b95b20a338f",
   "metadata": {},
   "outputs": [
    {
     "data": {
      "text/plain": [
       "166.44669310480924"
      ]
     },
     "execution_count": 14,
     "metadata": {},
     "output_type": "execute_result"
    }
   ],
   "source": [
    "24/0.14419030833425764"
   ]
  },
  {
   "cell_type": "markdown",
   "id": "aa3046cb-3dca-41b6-83f9-8904db8a3b39",
   "metadata": {},
   "source": [
    "f8c12 lsdir"
   ]
  },
  {
   "cell_type": "code",
   "execution_count": null,
   "id": "fd81ff40-a3bf-4e56-bbb2-6134e22e305f",
   "metadata": {},
   "outputs": [],
   "source": [
    "results_dataset = inet.select(range(100)).map(compress_and_evaluate)\n",
    "\n",
    "print(\"mean\\n---\")\n",
    "for metric in metrics:\n",
    "    μ = np.mean(results_dataset[metric])\n",
    "    print(f\"{metric}: {μ}\")\n",
    "print(f\"{np.mean(np.array(results_dataset['pixels'])/1e6/np.array(results_dataset['encode_time']))} MP/sec\")"
   ]
  },
  {
   "cell_type": "markdown",
   "id": "296bbcbb-2a5e-4ba5-8164-766f2ba6600f",
   "metadata": {},
   "source": [
    "f8c12 lsdir+inet"
   ]
  },
  {
   "cell_type": "code",
   "execution_count": 7,
   "id": "755fccc5-e859-4d3b-b8b1-80a8faba94fb",
   "metadata": {},
   "outputs": [
    {
     "data": {
      "application/vnd.jupyter.widget-view+json": {
       "model_id": "c1379fd5683d44f5879f2ddb622199ff",
       "version_major": 2,
       "version_minor": 0
      },
      "text/plain": [
       "Map:   0%|          | 0/50000 [00:00<?, ? examples/s]"
      ]
     },
     "metadata": {},
     "output_type": "display_data"
    },
    {
     "name": "stdout",
     "output_type": "stream",
     "text": [
      "mean\n",
      "---\n",
      "pixels: 1233140.44928\n",
      "bpp: 0.6455606527768093\n",
      "PSNR: 38.895700521564486\n",
      "LPIPS_dB: 10.482115628613725\n",
      "DISTS_dB: 19.412052084736796\n",
      "SSIM: 0.9871415659821033\n",
      "encode_time: 0.058272379055023193\n",
      "decode_time: 0.007950794057846069\n",
      "23.599175936410298 MP/sec\n"
     ]
    }
   ],
   "source": [
    "results_dataset = inet.map(compress_and_evaluate)\n",
    "\n",
    "print(\"mean\\n---\")\n",
    "for metric in metrics:\n",
    "    μ = np.mean(results_dataset[metric])\n",
    "    print(f\"{metric}: {μ}\")\n",
    "print(f\"{np.mean(np.array(results_dataset['pixels'])/1e6/np.array(results_dataset['encode_time']))} MP/sec\")"
   ]
  },
  {
   "cell_type": "markdown",
   "id": "92ebef83-9cca-42c5-b63e-4a603c8b9555",
   "metadata": {},
   "source": [
    "f8c12 lsdir+inet+lsdir"
   ]
  },
  {
   "cell_type": "code",
   "execution_count": null,
   "id": "50f49b6f-38ed-4be3-97dc-bbea1a755158",
   "metadata": {},
   "outputs": [],
   "source": [
    "results_dataset = inet.select(range(100)).map(compress_and_evaluate)\n",
    "\n",
    "print(\"mean\\n---\")\n",
    "for metric in metrics:\n",
    "    μ = np.mean(results_dataset[metric])\n",
    "    print(f\"{metric}: {μ}\")\n",
    "print(f\"{np.mean(np.array(results_dataset['pixels'])/1e6/np.array(results_dataset['encode_time']))} MP/sec\")"
   ]
  },
  {
   "cell_type": "markdown",
   "id": "f812b877-987a-450c-958d-894ea62258dd",
   "metadata": {},
   "source": [
    "f16c48 lsdir+inet"
   ]
  },
  {
   "cell_type": "code",
   "execution_count": 7,
   "id": "32b2e740-0f1f-4abe-ad8c-dc7112053aee",
   "metadata": {},
   "outputs": [
    {
     "data": {
      "application/vnd.jupyter.widget-view+json": {
       "model_id": "16e3d7a7d1b446ad88d54b5c236d88cd",
       "version_major": 2,
       "version_minor": 0
      },
      "text/plain": [
       "Map:   0%|          | 0/50000 [00:00<?, ? examples/s]"
      ]
     },
     "metadata": {},
     "output_type": "display_data"
    },
    {
     "name": "stdout",
     "output_type": "stream",
     "text": [
      "mean\n",
      "---\n",
      "pixels: 1233140.44928\n",
      "bpp: 0.6313282907855455\n",
      "PSNR: 38.88292310328484\n",
      "LPIPS_dB: 10.749157017407448\n",
      "DISTS_dB: 20.078580878680228\n",
      "SSIM: 0.9875113545906544\n",
      "encode_time: 0.033106667222976685\n",
      "decode_time: 0.008710551104545593\n",
      "38.27494239613218 MP/sec\n"
     ]
    }
   ],
   "source": [
    "results_dataset = inet.map(compress_and_evaluate)\n",
    "\n",
    "print(\"mean\\n---\")\n",
    "for metric in metrics:\n",
    "    μ = np.mean(results_dataset[metric])\n",
    "    print(f\"{metric}: {μ}\")\n",
    "print(f\"{np.mean(np.array(results_dataset['pixels'])/1e6/np.array(results_dataset['encode_time']))} MP/sec\")"
   ]
  }
 ],
 "metadata": {
  "kernelspec": {
   "display_name": "Python 3 (ipykernel)",
   "language": "python",
   "name": "python3"
  },
  "language_info": {
   "codemirror_mode": {
    "name": "ipython",
    "version": 3
   },
   "file_extension": ".py",
   "mimetype": "text/x-python",
   "name": "python",
   "nbconvert_exporter": "python",
   "pygments_lexer": "ipython3",
   "version": "3.10.12"
  }
 },
 "nbformat": 4,
 "nbformat_minor": 5
}
