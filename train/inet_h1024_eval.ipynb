{
 "cells": [
  {
   "cell_type": "code",
   "execution_count": 1,
   "id": "5911e753-ad87-4d09-8156-39004959f715",
   "metadata": {},
   "outputs": [
    {
     "name": "stdout",
     "output_type": "stream",
     "text": [
      "env: CUDA_VISIBLE_DEVICES=MIG-cbafb023-40ef-594e-9092-fb0e3c44baa2\n"
     ]
    }
   ],
   "source": [
    "%env CUDA_VISIBLE_DEVICES=MIG-cbafb023-40ef-594e-9092-fb0e3c44baa2"
   ]
  },
  {
   "cell_type": "code",
   "execution_count": 2,
   "id": "edb7d1ed-cfe7-4a60-a5ef-4e7083205b0e",
   "metadata": {},
   "outputs": [],
   "source": [
    "import io\n",
    "import time\n",
    "import torch\n",
    "import torch.nn as nn\n",
    "import PIL.Image\n",
    "import io\n",
    "import numpy as np\n",
    "import datasets\n",
    "from torchvision.transforms.v2 import Pad, CenterCrop\n",
    "from torchvision.transforms.v2.functional import pil_to_tensor, to_pil_image\n",
    "from types import SimpleNamespace\n",
    "from autocodec.codec import AutoCodecND, latent_to_pil, pil_to_latent\n",
    "from piq import LPIPS, DISTS, SSIMLoss"
   ]
  },
  {
   "cell_type": "code",
   "execution_count": 3,
   "id": "ad55c948-ab26-4834-8213-56ce0f3c6d0e",
   "metadata": {},
   "outputs": [
    {
     "name": "stderr",
     "output_type": "stream",
     "text": [
      "/home/dgj335/.local/lib/python3.10/site-packages/torchvision/models/_utils.py:208: UserWarning: The parameter 'pretrained' is deprecated since 0.13 and may be removed in the future, please use 'weights' instead.\n",
      "  warnings.warn(\n",
      "/home/dgj335/.local/lib/python3.10/site-packages/torchvision/models/_utils.py:223: UserWarning: Arguments other than a weight enum or `None` for 'weights' are deprecated since 0.13 and may be removed in the future. The current behavior is equivalent to passing `weights=VGG16_Weights.IMAGENET1K_V1`. You can also use `weights=VGG16_Weights.DEFAULT` to get the most up-to-date weights.\n",
      "  warnings.warn(msg)\n"
     ]
    }
   ],
   "source": [
    "device = \"cuda\"\n",
    "lpips_loss = LPIPS().to(device)\n",
    "dists_loss = DISTS().to(device)\n",
    "ssim_loss = SSIMLoss().to(device)"
   ]
  },
  {
   "cell_type": "code",
   "execution_count": 4,
   "id": "a5324e50-c936-4374-a382-3029cb398692",
   "metadata": {},
   "outputs": [
    {
     "data": {
      "application/vnd.jupyter.widget-view+json": {
       "model_id": "363096d4539347519b7eb36d51bbf5d2",
       "version_major": 2,
       "version_minor": 0
      },
      "text/plain": [
       "Resolving data files:   0%|          | 0/1024 [00:00<?, ?it/s]"
      ]
     },
     "metadata": {},
     "output_type": "display_data"
    },
    {
     "name": "stderr",
     "output_type": "stream",
     "text": [
      "Using the latest cached version of the dataset since timm/imagenet-1k-wds couldn't be found on the Hugging Face Hub\n",
      "Found the latest cached dataset configuration 'default' at /home/dgj335/.cache/huggingface/datasets/timm___imagenet-1k-wds/default/0.0.0/cdf403ce12f01022a0c36e584e588c0b9cebc4af (last modified on Fri Apr  4 13:57:51 2025).\n"
     ]
    }
   ],
   "source": [
    "inet = datasets.load_dataset(\"timm/imagenet-1k-wds\",split='validation')"
   ]
  },
  {
   "cell_type": "code",
   "execution_count": 5,
   "id": "96f2bd3e-e30c-4873-bf2d-1cbcb2ca23f5",
   "metadata": {},
   "outputs": [],
   "source": [
    "checkpoint = torch.load('../../hf/dance/inet_ft_rgb_f8c12.pth', map_location=device,weights_only=False)\n",
    "config = checkpoint['config']\n",
    "state_dict = checkpoint['state_dict']\n",
    "\n",
    "model = AutoCodecND(\n",
    "    dim=2,\n",
    "    input_channels=config.input_channels,\n",
    "    J = int(np.log2(config.F)),\n",
    "    latent_dim=config.latent_dim,\n",
    "    encoder_depth = config.encoder_depth,\n",
    "    encoder_kernel_size = config.encoder_kernel_size,\n",
    "    decoder_depth = config.decoder_depth,\n",
    "    lightweight_encode = config.lightweight_encode,\n",
    "    lightweight_decode = config.lightweight_decode,\n",
    ").to(device)\n",
    "model.load_state_dict(state_dict)\n",
    "model.eval();"
   ]
  },
  {
   "cell_type": "code",
   "execution_count": 6,
   "id": "b06d2d79-fd36-419d-bfc8-96579af4aae7",
   "metadata": {},
   "outputs": [],
   "source": [
    "def compress_and_evaluate(sample):\n",
    "    img = sample['jpg'].convert(\"RGB\")\n",
    "    aspect = img.width/img.height\n",
    "    img = img.resize((int(16*(1024*aspect//16)),1024),resample=PIL.Image.Resampling.LANCZOS)\n",
    "    x_orig = pil_to_tensor(img).to(device).unsqueeze(0).to(torch.float) / 127.5 - 1.0\n",
    "    orig_dim = x_orig.numel() \n",
    "\n",
    "    t0 = time.time()\n",
    "    with torch.no_grad():\n",
    "        z = model.encode(x_orig)\n",
    "        latent = model.quantize.compand(z).round()\n",
    "    webp = latent_to_pil(latent.cpu(), n_bits=8, C=3)\n",
    "    buff = io.BytesIO()\n",
    "    webp[0].save(buff, format='WEBP', lossless=True)\n",
    "    encode_time = time.time() - t0\n",
    "    size_bytes = len(buff.getbuffer())\n",
    "    t0 = time.time()\n",
    "    latent_decoded = pil_to_latent(webp, N=config.latent_dim, n_bits=8, C=3).to(device)\n",
    "    with torch.no_grad():\n",
    "        x_hat = model.decode(latent_decoded).clamp(-1,1)\n",
    "    decode_time = time.time() - t0\n",
    "\n",
    "    x_orig_01 = x_orig / 2 + 0.5\n",
    "    x_hat_01 = x_hat / 2 + 0.5\n",
    "\n",
    "    pixels = img.width * img.height\n",
    "    bpp = 8 * size_bytes / pixels\n",
    "    mse = torch.nn.functional.mse_loss(x_orig_01[0], x_hat_01[0])\n",
    "    PSNR = -10 * mse.log10().item()\n",
    "    LPIPS_dB = -10 * np.log10(lpips_loss(x_orig_01.to(device), x_hat_01.to(device)).item())\n",
    "    DISTS_dB = -10 * np.log10(dists_loss(x_orig_01.to(device), x_hat_01.to(device)).item())\n",
    "    SSIM = 1 - ssim_loss(x_orig_01.to(device), x_hat_01.to(device)).item()\n",
    "\n",
    "    return {\n",
    "        'pixels': pixels,\n",
    "        'bpp': bpp,\n",
    "        'PSNR': PSNR,\n",
    "        'LPIPS_dB': LPIPS_dB,\n",
    "        'DISTS_dB': DISTS_dB,\n",
    "        'SSIM': SSIM,\n",
    "        'encode_time': encode_time,\n",
    "        'decode_time': decode_time,\n",
    "    }\n",
    "\n",
    "metrics = [\n",
    "    'pixels',\n",
    "    'bpp',\n",
    "    'PSNR',\n",
    "    'LPIPS_dB',\n",
    "    'DISTS_dB',\n",
    "    'SSIM',\n",
    "    'encode_time',\n",
    "    'decode_time',\n",
    "]"
   ]
  },
  {
   "cell_type": "markdown",
   "id": "61b4d479-1d3c-4c55-aba0-978e86f7d786",
   "metadata": {},
   "source": [
    "f16c12"
   ]
  },
  {
   "cell_type": "code",
   "execution_count": null,
   "id": "2bd0d643-d4e4-4093-94e5-7e325506642d",
   "metadata": {},
   "outputs": [],
   "source": [
    "results_dataset = inet.select(range(100)).map(compress_and_evaluate)\n",
    "\n",
    "print(\"mean\\n---\")\n",
    "for metric in metrics:\n",
    "    μ = np.mean(results_dataset[metric])\n",
    "    print(f\"{metric}: {μ}\")\n",
    "print(f\"{np.mean(np.array(results_dataset['pixels'])/1e6/np.array(results_dataset['encode_time']))} MP/sec\")"
   ]
  },
  {
   "cell_type": "markdown",
   "id": "aa3046cb-3dca-41b6-83f9-8904db8a3b39",
   "metadata": {},
   "source": [
    "f8c12 lsdir"
   ]
  },
  {
   "cell_type": "code",
   "execution_count": null,
   "id": "fd81ff40-a3bf-4e56-bbb2-6134e22e305f",
   "metadata": {},
   "outputs": [],
   "source": [
    "results_dataset = inet.select(range(100)).map(compress_and_evaluate)\n",
    "\n",
    "print(\"mean\\n---\")\n",
    "for metric in metrics:\n",
    "    μ = np.mean(results_dataset[metric])\n",
    "    print(f\"{metric}: {μ}\")\n",
    "print(f\"{np.mean(np.array(results_dataset['pixels'])/1e6/np.array(results_dataset['encode_time']))} MP/sec\")"
   ]
  },
  {
   "cell_type": "markdown",
   "id": "296bbcbb-2a5e-4ba5-8164-766f2ba6600f",
   "metadata": {},
   "source": [
    "f8c12 lsdir+inet"
   ]
  },
  {
   "cell_type": "code",
   "execution_count": 7,
   "id": "755fccc5-e859-4d3b-b8b1-80a8faba94fb",
   "metadata": {},
   "outputs": [
    {
     "data": {
      "application/vnd.jupyter.widget-view+json": {
       "model_id": "c1379fd5683d44f5879f2ddb622199ff",
       "version_major": 2,
       "version_minor": 0
      },
      "text/plain": [
       "Map:   0%|          | 0/50000 [00:00<?, ? examples/s]"
      ]
     },
     "metadata": {},
     "output_type": "display_data"
    },
    {
     "name": "stdout",
     "output_type": "stream",
     "text": [
      "mean\n",
      "---\n",
      "pixels: 1233140.44928\n",
      "bpp: 0.6455606527768093\n",
      "PSNR: 38.895700521564486\n",
      "LPIPS_dB: 10.482115628613725\n",
      "DISTS_dB: 19.412052084736796\n",
      "SSIM: 0.9871415659821033\n",
      "encode_time: 0.058272379055023193\n",
      "decode_time: 0.007950794057846069\n",
      "23.599175936410298 MP/sec\n"
     ]
    }
   ],
   "source": [
    "results_dataset = inet.map(compress_and_evaluate)\n",
    "\n",
    "print(\"mean\\n---\")\n",
    "for metric in metrics:\n",
    "    μ = np.mean(results_dataset[metric])\n",
    "    print(f\"{metric}: {μ}\")\n",
    "print(f\"{np.mean(np.array(results_dataset['pixels'])/1e6/np.array(results_dataset['encode_time']))} MP/sec\")"
   ]
  },
  {
   "cell_type": "markdown",
   "id": "92ebef83-9cca-42c5-b63e-4a603c8b9555",
   "metadata": {},
   "source": [
    "f8c12 lsdir+inet+lsdir"
   ]
  },
  {
   "cell_type": "code",
   "execution_count": null,
   "id": "50f49b6f-38ed-4be3-97dc-bbea1a755158",
   "metadata": {},
   "outputs": [],
   "source": [
    "results_dataset = inet.select(range(100)).map(compress_and_evaluate)\n",
    "\n",
    "print(\"mean\\n---\")\n",
    "for metric in metrics:\n",
    "    μ = np.mean(results_dataset[metric])\n",
    "    print(f\"{metric}: {μ}\")\n",
    "print(f\"{np.mean(np.array(results_dataset['pixels'])/1e6/np.array(results_dataset['encode_time']))} MP/sec\")"
   ]
  }
 ],
 "metadata": {
  "kernelspec": {
   "display_name": "Python 3 (ipykernel)",
   "language": "python",
   "name": "python3"
  },
  "language_info": {
   "codemirror_mode": {
    "name": "ipython",
    "version": 3
   },
   "file_extension": ".py",
   "mimetype": "text/x-python",
   "name": "python",
   "nbconvert_exporter": "python",
   "pygments_lexer": "ipython3",
   "version": "3.10.12"
  }
 },
 "nbformat": 4,
 "nbformat_minor": 5
}
