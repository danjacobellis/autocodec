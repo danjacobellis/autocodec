{
 "cells": [
  {
   "cell_type": "code",
   "execution_count": 1,
   "id": "31802a5a-cddf-4ebd-9d87-2aca01836585",
   "metadata": {},
   "outputs": [],
   "source": [
    "import io\n",
    "import torch\n",
    "import torch.nn as nn\n",
    "import PIL.Image\n",
    "import einops\n",
    "import matplotlib.pyplot as plt\n",
    "import numpy as np\n",
    "import datasets\n",
    "import math\n",
    "import random\n",
    "from timm.optim import Mars\n",
    "from types import SimpleNamespace\n",
    "from IPython.display import HTML\n",
    "from types import SimpleNamespace\n",
    "from fastprogress import progress_bar, master_bar\n",
    "from torchvision.transforms.v2 import CenterCrop, RandomCrop\n",
    "from torchvision.transforms.v2.functional import pil_to_tensor, to_pil_image\n",
    "from decord import VideoReader\n",
    "from autocodec.codec import AutoCodecND, latent_to_pil, pil_to_latent"
   ]
  },
  {
   "cell_type": "code",
   "execution_count": 2,
   "id": "550eece5-fccd-4fba-ba81-f81f73a3fd44",
   "metadata": {},
   "outputs": [
    {
     "data": {
      "application/vnd.jupyter.widget-view+json": {
       "model_id": "e2adca2498b24bc784de61de6763be9c",
       "version_major": 2,
       "version_minor": 0
      },
      "text/plain": [
       "Resolving data files:   0%|          | 0/45 [00:00<?, ?it/s]"
      ]
     },
     "metadata": {},
     "output_type": "display_data"
    },
    {
     "data": {
      "application/vnd.jupyter.widget-view+json": {
       "model_id": "07ddde428a7f43b38553a9a93c884b9e",
       "version_major": 2,
       "version_minor": 0
      },
      "text/plain": [
       "Resolving data files:   0%|          | 0/45 [00:00<?, ?it/s]"
      ]
     },
     "metadata": {},
     "output_type": "display_data"
    },
    {
     "data": {
      "application/vnd.jupyter.widget-view+json": {
       "model_id": "edd9029152dc499084b39021032ed611",
       "version_major": 2,
       "version_minor": 0
      },
      "text/plain": [
       "Loading dataset shards:   0%|          | 0/30 [00:00<?, ?it/s]"
      ]
     },
     "metadata": {},
     "output_type": "display_data"
    }
   ],
   "source": [
    "device = \"cuda\"\n",
    "dataset = datasets.load_dataset(\"danjacobellis/vimeo1080p\").cast_column('video',datasets.Video()).with_format(\"torch\")"
   ]
  },
  {
   "cell_type": "code",
   "execution_count": 3,
   "id": "a31d0895-e43d-4175-9eb0-47a63448f369",
   "metadata": {},
   "outputs": [],
   "source": [
    "config = SimpleNamespace()\n",
    "config.F = 8\n",
    "config.latent_dim = 48\n",
    "config.input_channels = 3\n",
    "config.encoder_depth = 4\n",
    "config.encoder_kernel_size = 1\n",
    "config.decoder_depth = 8\n",
    "config.lightweight_encode = True\n",
    "config.lightweight_decode = False\n",
    "config.freeze_encoder_after = 0.7\n",
    "config.λ = 3e-3\n",
    "config.lr_pow = 2\n",
    "config.epochs = 12\n",
    "config.width = 1392\n",
    "config.height = 784\n",
    "config.frames = 24\n",
    "config.batch_size = 1\n",
    "config.max_lr = (64/config.batch_size)*1e-3\n",
    "config.min_lr = config.max_lr / 1e3\n",
    "config.num_workers = 16\n",
    "config.total_steps = config.epochs * (dataset['train'].num_rows // config.batch_size)\n",
    "config.checkpoint = \"../../hf/dance/video_f8c48_24f.pth\""
   ]
  },
  {
   "cell_type": "code",
   "execution_count": 4,
   "id": "c5368416-bb8d-4563-9f68-1f22c25c102b",
   "metadata": {},
   "outputs": [],
   "source": [
    "def get_epoch_size(epoch):\n",
    "    idx = min(epoch, len(config.progressive_sizes)-1)\n",
    "    return config.progressive_sizes[idx]\n",
    "    \n",
    "def collate_fn(batch,epoch):\n",
    "    n_frames = config.frames\n",
    "    h = config.height\n",
    "    w = config.width\n",
    "    batch_tensors = []\n",
    "    for sample in batch:\n",
    "        video = sample['video']\n",
    "        len_video = len(video)\n",
    "        start = random.randint(0, len_video - n_frames)\n",
    "        indices = range(start, start + n_frames)\n",
    "        frames = video.get_batch(indices)\n",
    "        H, W = frames.shape[1], frames.shape[2]\n",
    "        i = random.randint(0, H - h)\n",
    "        j = random.randint(0, W - w)\n",
    "        frames_cropped = frames[:, i:i+h, j:j+w, :]\n",
    "        frames_cropped = frames_cropped.permute(3, 0, 1, 2)\n",
    "        batch_tensors.append(frames_cropped)\n",
    "    return torch.stack(batch_tensors, dim=0).to(torch.float)/127.5 - 1.0"
   ]
  },
  {
   "cell_type": "code",
   "execution_count": 5,
   "id": "4b0114f6-08a4-4b7b-a910-be53bbc0e995",
   "metadata": {},
   "outputs": [
    {
     "name": "stdout",
     "output_type": "stream",
     "text": [
      "305.889072 M parameters\n"
     ]
    }
   ],
   "source": [
    "model = AutoCodecND(\n",
    "    dim=3,\n",
    "    input_channels=config.input_channels,\n",
    "    J = int(np.log2(config.F)),\n",
    "    latent_dim=config.latent_dim,\n",
    "    encoder_depth = config.encoder_depth,\n",
    "    encoder_kernel_size = config.encoder_kernel_size,\n",
    "    decoder_depth = config.decoder_depth,\n",
    "    lightweight_encode = config.lightweight_encode,\n",
    "    lightweight_decode = config.lightweight_decode,\n",
    ").to(device)\n",
    "\n",
    "if config.checkpoint:\n",
    "    checkpoint = torch.load(config.checkpoint,weights_only=False)\n",
    "    model.load_state_dict(checkpoint['state_dict'])\n",
    "\n",
    "print(f\"{sum(p.numel() for p in model.parameters())/1e6} M parameters\")\n",
    "\n",
    "optimizer = Mars(model.parameters(), lr=1.0, caution=True)\n",
    "\n",
    "def rc_sched(i_step, config):\n",
    "    t = i_step / config.total_steps\n",
    "    return (config.max_lr - config.min_lr) * (1 - ((np.cos(np.pi*t))**(2*config.lr_pow))) + config.min_lr\n",
    "\n",
    "schedule = torch.optim.lr_scheduler.LambdaLR(\n",
    "    optimizer,\n",
    "    lr_lambda=lambda i_step: rc_sched(i_step, config)\n",
    ")"
   ]
  },
  {
   "cell_type": "code",
   "execution_count": null,
   "id": "4a5e5228-d6e0-4ce9-94fe-7631a7953e6c",
   "metadata": {},
   "outputs": [
    {
     "data": {
      "text/html": [
       "\n",
       "<style>\n",
       "    /* Turns off some styling */\n",
       "    progress {\n",
       "        /* gets rid of default border in Firefox and Opera. */\n",
       "        border: none;\n",
       "        /* Needs to be in here for Safari polyfill so background images work as expected. */\n",
       "        background-size: auto;\n",
       "    }\n",
       "    progress:not([value]), progress:not([value])::-webkit-progress-bar {\n",
       "        background: repeating-linear-gradient(45deg, #7e7e7e, #7e7e7e 10px, #5c5c5c 10px, #5c5c5c 20px);\n",
       "    }\n",
       "    .progress-bar-interrupted, .progress-bar-interrupted::-webkit-progress-bar {\n",
       "        background: #F44336;\n",
       "    }\n",
       "</style>\n"
      ],
      "text/plain": [
       "<IPython.core.display.HTML object>"
      ]
     },
     "metadata": {},
     "output_type": "display_data"
    },
    {
     "data": {
      "text/html": [
       "\n",
       "    <div>\n",
       "      <progress value='0' class='' max='12' style='width:300px; height:20px; vertical-align: middle;'></progress>\n",
       "      0.00% [0/12 00:00&lt;?]\n",
       "    </div>\n",
       "    \n",
       "\n",
       "\n",
       "    <div>\n",
       "      <progress value='310' class='' max='3000' style='width:300px; height:20px; vertical-align: middle;'></progress>\n",
       "      10.33% [310/3000 10:41&lt;1:32:50 PSNR: 36.1, R: 2.1, LR: 0.00016]\n",
       "    </div>\n",
       "    "
      ],
      "text/plain": [
       "<IPython.core.display.HTML object>"
      ]
     },
     "metadata": {},
     "output_type": "display_data"
    }
   ],
   "source": [
    "learning_rates = [optimizer.param_groups[0]['lr']]\n",
    "mb = master_bar(range(config.epochs))\n",
    "losses = []\n",
    "rate_losses = []\n",
    "\n",
    "global_step = 0\n",
    "model.train()\n",
    "for i_epoch in mb:\n",
    "    #-----Train-----\n",
    "    model.train()\n",
    "    dataloader_train = torch.utils.data.DataLoader(\n",
    "            dataset['train'],\n",
    "            batch_size=config.batch_size,\n",
    "            num_workers=config.num_workers,\n",
    "            drop_last=True,\n",
    "            shuffle=True,\n",
    "            collate_fn=lambda batch: collate_fn(batch, i_epoch)\n",
    "        )\n",
    "    pb = progress_bar(dataloader_train, parent=mb)\n",
    "    for i_batch, x in enumerate(pb):\n",
    "        x = x.to(device)\n",
    "        if i_epoch/config.epochs <= config.freeze_encoder_after :\n",
    "            # Soft quantization with additive noise\n",
    "            x_hat, rate = model(x)\n",
    "        else:\n",
    "            # Hard quantization\n",
    "            with torch.no_grad():\n",
    "                z = model.quantize.compand(model.encode(x))\n",
    "                z_quant = z.round()\n",
    "            rate = z.std().log2()              \n",
    "            x_hat = model.decode(z_quant)\n",
    "\n",
    "        # Loss and optimizer\n",
    "        mse_loss = torch.nn.functional.mse_loss(x, x_hat).log10()\n",
    "        losses.append(mse_loss.item())\n",
    "        rate_losses.append(rate.item())\n",
    "        total_loss = mse_loss + config.λ * rate\n",
    "        total_loss.backward()\n",
    "        optimizer.step()\n",
    "        optimizer.zero_grad()\n",
    "        schedule.step()\n",
    "        learning_rates.append(optimizer.param_groups[0]['lr'])\n",
    "        pb.comment = (f\"PSNR: {-10*losses[-1]+6.02:.3g}, R: {rate:.2g}, LR: {learning_rates[-1]:.2g}\")\n",
    "        global_step += 1\n",
    "\n",
    "    torch.save({\n",
    "        'config': config,\n",
    "        'state_dict': model.state_dict()\n",
    "    }, f'checkpoint_f{config.F}c{config.latent_dim}.pth')"
   ]
  },
  {
   "cell_type": "code",
   "execution_count": null,
   "id": "609e63e0-736e-4466-94fb-0e6a3ad576ab",
   "metadata": {},
   "outputs": [],
   "source": [
    "display(HTML(mb.main_bar.progress))\n",
    "display(HTML(pb.progress))\n",
    "fig, ax1 = plt.subplots()\n",
    "ax1.plot(-10*np.array(losses)+6.02)\n",
    "ax1.set_yticks(range(20,41))\n",
    "ax1.set_ylim([20,40])\n",
    "ax1.grid(True)\n",
    "ax1.tick_params(axis='y', labelcolor='blue')\n",
    "ax2 = ax1.twinx()\n",
    "ax2.plot(-10*np.array(rate_losses), color='red', alpha=0.5)\n",
    "ax2.tick_params(axis='y', labelcolor='red')\n",
    "plt.show()"
   ]
  },
  {
   "cell_type": "code",
   "execution_count": null,
   "id": "43b2df11-b8e6-4cb1-9eb4-ef731090bed4",
   "metadata": {},
   "outputs": [],
   "source": [
    "torch.save({\n",
    "    'config': config,\n",
    "    'state_dict': model.state_dict()\n",
    "}, '../../hf/dance/video_f8c48_24f_784p_.pth')"
   ]
  },
  {
   "cell_type": "code",
   "execution_count": null,
   "id": "ad4faae5-d45f-4f8f-b15a-757bdffd9b99",
   "metadata": {},
   "outputs": [],
   "source": [
    "latent.shape"
   ]
  },
  {
   "cell_type": "code",
   "execution_count": null,
   "id": "d7c62b49-b7c0-48e4-9877-b82930500339",
   "metadata": {},
   "outputs": [],
   "source": [
    "from IPython.display import display, clear_output\n",
    "from ipywidgets import interact\n",
    "\n",
    "model.eval()\n",
    "def get_epoch_size(epoch):\n",
    "    return 240\n",
    "x = collate_fn(dataset['validation'].select([0]),0).to(device)\n",
    "\n",
    "orig_dim = x.numel()\n",
    "\n",
    "with torch.no_grad():\n",
    "    z = model.encode(x)\n",
    "    latent = model.quantize.compand(z).round()\n",
    "# latent = einops.rearrange(latent, 'b c d h w -> b (c d) h w').cpu()\n",
    "\n",
    "# webp = latent_to_pil(latent, n_bits=8, C=3)\n",
    "# # display(webp[0])\n",
    "# buff = io.BytesIO()\n",
    "# webp[0].save(buff, format='WEBP', lossless=True)\n",
    "# size_bytes = len(buff.getbuffer())\n",
    "\n",
    "# print(f\"Compressed size: {size_bytes / 1e3:.2f} KB\")\n",
    "# print(f\"Compression ratio: {orig_dim / size_bytes:.2f}x\")\n",
    "# print(f\"Dimension reduction: {orig_dim / latent.numel():.2f}x\")\n",
    "\n",
    "# latent_decoded = pil_to_latent(webp, N=latent.shape[1], n_bits=8, C=3)\n",
    "# latent_decoded = einops.rearrange(latent_decoded, 'b (c d) h w -> b c d h w', d=16).to(device)\n",
    "\n",
    "latent_decoded = latent.clone()\n",
    "\n",
    "with torch.no_grad():\n",
    "    x_hat = model.decode(latent_decoded).clamp(-1, 1)\n",
    "\n",
    "mse = torch.nn.functional.mse_loss(x, x_hat)\n",
    "PSNR = -10 * mse.log10().item() + 6.02\n",
    "\n",
    "print(f\"PSNR: {PSNR:.2f} dB\")\n",
    "\n",
    "original_volume = x[0].cpu().numpy()\n",
    "reconstructed_volume = x_hat[0].cpu().numpy()\n",
    "\n",
    "def show_slices(slice_idx):\n",
    "    clear_output(wait=True)\n",
    "    orig_slice = to_pil_image(einops.rearrange(original_volume[:,slice_idx],'c h w -> h w c')/2+0.5)\n",
    "    recon_slice = to_pil_image(einops.rearrange(reconstructed_volume[:,slice_idx],'c h w -> h w c')/2+0.5)\n",
    "    display(orig_slice)\n",
    "    display(recon_slice)\n",
    "\n",
    "interact(show_slices, slice_idx=(0, original_volume.shape[1]-1, 1));"
   ]
  },
  {
   "cell_type": "code",
   "execution_count": null,
   "id": "a1a1c852-cfea-48c7-b2ca-c8eaa4a724c6",
   "metadata": {},
   "outputs": [],
   "source": [
    "# print(f\"Compressed size: {size_bytes / 1e3:.2f} KB\")\n",
    "# print(f\"Compression ratio: {orig_dim / size_bytes:.2f}x\")\n",
    "# print(f\"Dimension reduction: {orig_dim / latent.numel():.2f}x\")\n",
    "# print(f\"PSNR: {PSNR:.2f} dB\")"
   ]
  },
  {
   "cell_type": "code",
   "execution_count": null,
   "id": "6f6895ce-9205-47c6-b1f8-818a46f9cc00",
   "metadata": {},
   "outputs": [],
   "source": [
    "to_pil_image(einops.rearrange(original_volume[:,12],'c h w -> h w c')/2+0.5)"
   ]
  },
  {
   "cell_type": "code",
   "execution_count": null,
   "id": "c63a9a34-63f9-4639-b3e8-111790552d0d",
   "metadata": {},
   "outputs": [],
   "source": [
    "to_pil_image(einops.rearrange(reconstructed_volume[:,12],'c h w -> h w c')/2+0.5)"
   ]
  },
  {
   "cell_type": "code",
   "execution_count": null,
   "id": "b0a8ab96-b0fe-4fc7-9ec7-e305b60de2a4",
   "metadata": {},
   "outputs": [],
   "source": [
    "# from torch.distributions import Categorical\n",
    "# x_int8 = torch.tensor(np.array(webp[0]))\n",
    "# h = plt.hist(x_int8.flatten(),range=(-0.5,255.5),bins=256,width=0.8,density=True)\n",
    "# bpc = np.log2(np.exp(1))*Categorical(torch.tensor(h[0])).entropy()\n",
    "# plt.xlim([127-20,127+20])\n",
    "# print(f\"bpc: {bpc.item()}, cr: {orig_dim/latent.numel()*(8/bpc.item())}\")"
   ]
  }
 ],
 "metadata": {
  "kernelspec": {
   "display_name": "Python 3 (ipykernel)",
   "language": "python",
   "name": "python3"
  },
  "language_info": {
   "codemirror_mode": {
    "name": "ipython",
    "version": 3
   },
   "file_extension": ".py",
   "mimetype": "text/x-python",
   "name": "python",
   "nbconvert_exporter": "python",
   "pygments_lexer": "ipython3",
   "version": "3.10.12"
  }
 },
 "nbformat": 4,
 "nbformat_minor": 5
}
